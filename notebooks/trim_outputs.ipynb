{
 "cells": [
  {
   "cell_type": "code",
   "execution_count": 1,
   "metadata": {},
   "outputs": [
    {
     "name": "stdout",
     "output_type": "stream",
     "text": [
      "leg_raise_1 output to ../trim_output/\n"
     ]
    }
   ],
   "source": [
    "import numpy as np\n",
    "import pandas as pd\n",
    "\n",
    "recording_path = \"../recordings/\"\n",
    "output_path = \"../trim_output/\"\n",
    "file_name = input(\"Input File Name\")\n",
    "\n",
    "#Read in CSV\n",
    "\n",
    "try:\n",
    "    dataframe = pd.read_csv(recording_path + file_name + \".csv\")\n",
    "except: \n",
    "    print(\"Error Reading File: Check Spelling and Try Again\")\n",
    "\n",
    "#Seperate each tracker to seperate dataframe\n",
    "HMD = dataframe.iloc[:,1:4]\n",
    "controller_1 = dataframe.iloc[:,7:10]\n",
    "controller_2 = dataframe.iloc[:,37:40]\n",
    "left_foot = dataframe.iloc[:,67:70]\n",
    "right_foot = dataframe.iloc[:,73:76]\n",
    "waist = dataframe.iloc[:,79:82]\n",
    "\n",
    "#Join all trackers together\n",
    "joined = pd.concat([HMD,controller_1, controller_2, left_foot ,right_foot , waist], axis=1)\n",
    "\n",
    "\n",
    "#output to new csv\n",
    "\n",
    "header_list = [\"head_x\", \n",
    "               \"head_y\",\n",
    "               \"head_z\",\n",
    "               \"controller_1_x\",\n",
    "               \"controller_1_y\",\n",
    "               \"controller_1_z\",\n",
    "               \"controller_2_x\",\n",
    "               \"controller_2_y\",\n",
    "               \"controller_2_z\", \n",
    "               \"tracker_1_x\",\n",
    "               \"tracker_1_y\",\n",
    "               \"tracker_1_z\",\n",
    "               \"tracker_2_x\",\n",
    "               \"tracker_2_y\"\n",
    "               \"tracker_2_z\",\n",
    "               \"tracker_3_x\",\n",
    "               \"tracker_3_y\",\n",
    "               \"tracker_3_z\"\n",
    "               ]\n",
    "\n",
    "output_file = output_path + file_name + \"_trimmed.csv\"\n",
    "joined.to_csv(output_file, index=False)\n",
    "\n",
    "print(file_name + \" output to \" + output_path)\n",
    "\n",
    "\n",
    "\n"
   ]
  }
 ],
 "metadata": {
  "kernelspec": {
   "display_name": "Python 3.10.2 64-bit",
   "language": "python",
   "name": "python3"
  },
  "language_info": {
   "codemirror_mode": {
    "name": "ipython",
    "version": 3
   },
   "file_extension": ".py",
   "mimetype": "text/x-python",
   "name": "python",
   "nbconvert_exporter": "python",
   "pygments_lexer": "ipython3",
   "version": "3.10.2"
  },
  "orig_nbformat": 4,
  "vscode": {
   "interpreter": {
    "hash": "85eeaad1f84315a0c9c5600e08c8d22c182ff5487c2ae8eda931033c2f461801"
   }
  }
 },
 "nbformat": 4,
 "nbformat_minor": 2
}
