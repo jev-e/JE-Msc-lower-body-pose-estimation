{
 "cells": [
  {
   "cell_type": "code",
   "execution_count": null,
   "metadata": {},
   "outputs": [],
   "source": [
    "#Prepare Data From CSV Recording\n",
    "\n",
    "##Load File\n",
    "\n",
    "'Data is loaded from a CSV recording file, accepted through an input prompt. This includes all positional data related to the 6 trackers (HMD, Left Controller, Right Controller, Waist, Left Foot, Right Foot).'\n",
    "\n",
    "'Data is loaded into a Pandas dataframe. The primary tracking data is then extracted, leaving extraneous data such as booleans for button presses.'\n",
    "\n",
    "'The extracted columns are then concatenated into a new dataframe, and the columns are renamed for ease of reading.' \n",
    "\n",
    "'The new trimmed file is written to a directory (/trim_output), for further manipulation and loading into the model.'\n"
   ]
  },
  {
   "cell_type": "code",
   "execution_count": null,
   "metadata": {},
   "outputs": [],
   "source": [
    "import numpy as np \n",
    "import pandas as pd\n",
    "\n",
    "recording_path = \"../recordings/\"\n",
    "output_path = \"../trim_output/\"\n",
    "file_name = input(\"Input File Name\")\n",
    "\n",
    "#Read in CSV\n",
    "\n",
    "try:\n",
    "    dataframe = pd.read_csv(recording_path + file_name + \".csv\")\n",
    "except:\n",
    "    print(\"Error Reading File: Check Spelling and Try Again\")\n",
    "\n",
    "# Seperate each tracker to seperate dataframe\n",
    "HMD = dataframe.iloc[:, 1:4]\n",
    "controller_1 = dataframe.iloc[:, 7:10]\n",
    "controller_2 = dataframe.iloc[:, 37:40]\n",
    "left_foot = dataframe.iloc[:, 67:70]\n",
    "right_foot = dataframe.iloc[:, 73:76]\n",
    "waist = dataframe.iloc[:, 79:82]\n",
    "\n",
    "# Join all trackers together\n",
    "joined = pd.concat([HMD, controller_1, controller_2,\n",
    "                   waist, left_foot, right_foot], axis=1)\n",
    "\n",
    "# set new column headers\n",
    "joined.columns = [\n",
    "    \"head_x\",\n",
    "    \"head_y\",\n",
    "    \"head_z\",\n",
    "    \"r_controller_x\",\n",
    "    \"r_controller_y\",\n",
    "    \"r_controller_1_z\",\n",
    "    \"l_controller_x\",\n",
    "    \"l_controller_y\",\n",
    "    \"l_controller_z\",\n",
    "    \"waist_x\",\n",
    "    \"waist_y\",\n",
    "    \"waist_z\",\n",
    "    \"r_foot_x\",\n",
    "    \"r_foot_y\",\n",
    "    \"r_foot_z\",\n",
    "    \"l_foot_x\",\n",
    "    \"l_foot_y\",\n",
    "    \"l_foot_z\"\n",
    "]\n",
    "\n",
    "\n",
    "# output to new csv\n",
    "output_file = output_path + file_name + \"_trimmed.csv\"\n",
    "joined.to_csv(output_file, index=False)\n",
    "\n",
    "print(file_name + \" output to \" + output_path)\n"
   ]
  },
  {
   "cell_type": "code",
   "execution_count": null,
   "metadata": {},
   "outputs": [],
   "source": [
    "#Data Normalization\n",
    "\n",
    "## Data Scaling\n",
    "\n",
    "'The new CSV is loaded into memory, chosen through an input prompt'\n",
    "'The data is then split between the features (the HMD and controller tracking data), and the labels (the waist and foot trackers).'\n",
    "'These are loaded into Numpy arrays to peform normaliztion. The output from OpenVR Recorder is upscaled by 100. To correct this the array is divided by 100'"
   ]
  },
  {
   "cell_type": "code",
   "execution_count": 3,
   "metadata": {},
   "outputs": [
    {
     "name": "stdout",
     "output_type": "stream",
     "text": [
      "Dataframe created\n"
     ]
    },
    {
     "data": {
      "text/plain": [
       "array([[ 0.08953532,  1.59178848, -0.17578089, ...,  0.03788082,\n",
       "         0.80374146,  0.09096572],\n",
       "       [-0.25591087,  1.58697922,  0.33253227, ..., -0.13299416,\n",
       "         0.79182411,  0.42571774],\n",
       "       [-0.09145373,  1.5878537 ,  0.55729786, ...,  0.12953456,\n",
       "         0.8707579 ,  0.54476894],\n",
       "       ...,\n",
       "       [-0.23291313,  1.58764175,  0.39430336, ..., -0.08221909,\n",
       "         0.83395187,  0.52449009],\n",
       "       [-0.33366257,  1.61500504, -0.13528797, ..., -0.5369175 ,\n",
       "         0.9034877 , -0.04983424],\n",
       "       [-0.08755193,  1.58678925, -0.16763311, ..., -0.25641184,\n",
       "         0.85932747, -0.00966894]])"
      ]
     },
     "metadata": {},
     "output_type": "display_data"
    },
    {
     "data": {
      "text/plain": [
       "array([[-0.26865009,  1.58726578,  0.29906637, ..., -0.14812251,\n",
       "         0.77162163,  0.36663391],\n",
       "       [ 0.49014988,  1.61212372,  0.06012411, ...,  0.36656395,\n",
       "         0.87946587, -0.16293947],\n",
       "       [-0.28961931,  1.58733063,  0.2441571 , ..., -0.15265855,\n",
       "         0.74716797,  0.26382154],\n",
       "       ...,\n",
       "       [ 0.45292736,  1.58303238,  0.04115045, ...,  0.31590321,\n",
       "         0.79069298, -0.03898935],\n",
       "       [-0.26975645,  1.59310135, -0.21043425, ..., -0.44748478,\n",
       "         0.89316277, -0.02274265],\n",
       "       [ 0.48439808,  1.60975769,  0.02213422, ...,  0.34453053,\n",
       "         0.89163879, -0.19003639]])"
      ]
     },
     "metadata": {},
     "output_type": "display_data"
    },
    {
     "data": {
      "text/plain": [
       "array([[ 0.09357481,  1.01723122, -0.18644894, ..., -0.08056785,\n",
       "         0.12744571, -0.0297064 ],\n",
       "       [-0.33355206,  0.98410858,  0.32017376, ..., -0.35795235,\n",
       "         0.09746568,  0.17695101],\n",
       "       [-0.10645221,  0.99120728,  0.60327942, ..., -0.14961736,\n",
       "         0.1388325 ,  0.44850548],\n",
       "       ...,\n",
       "       [-0.3023633 ,  0.98279724,  0.39181393, ..., -0.35525925,\n",
       "         0.09754041,  0.18381891],\n",
       "       [-0.32639297,  1.00579445, -0.15693558, ..., -0.17783466,\n",
       "         0.10114307, -0.11393599],\n",
       "       [-0.06775779,  1.00911591, -0.18631691, ...,  0.00547598,\n",
       "         0.0982889 , -0.10124354]])"
      ]
     },
     "metadata": {},
     "output_type": "display_data"
    },
    {
     "data": {
      "text/plain": [
       "array([[-0.3481485 ,  0.98384544,  0.28281727, ..., -0.35897537,\n",
       "         0.09767203,  0.1736515 ],\n",
       "       [ 0.55726334,  0.99712975,  0.02524828, ...,  0.54674141,\n",
       "         0.10101665,  0.16679667],\n",
       "       [-0.37034046,  0.98455711,  0.22257441, ..., -0.35870018,\n",
       "         0.09900968,  0.1705999 ],\n",
       "       ...,\n",
       "       [ 0.520989  ,  1.00314018,  0.01301736, ...,  0.53396984,\n",
       "         0.09212357,  0.0915747 ],\n",
       "       [-0.25951385,  0.9939151 , -0.20266769, ..., -0.00253506,\n",
       "         0.09631337, -0.10413281],\n",
       "       [ 0.54222069,  0.99996735, -0.00909552, ...,  0.54647499,\n",
       "         0.10011427,  0.16431543]])"
      ]
     },
     "metadata": {},
     "output_type": "display_data"
    }
   ],
   "source": [
    "from keras.callbacks import ModelCheckpoint\n",
    "from keras.models import Sequential\n",
    "from keras.layers import Dense, Activation, Flatten\n",
    "from sklearn.model_selection import train_test_split\n",
    "from sklearn.ensemble import RandomForestRegressor\n",
    "#from sklearn.metrics import mean_absolute_error \n",
    "from matplotlib import pyplot as plt\n",
    "#import seaborn as sb\n",
    "import matplotlib.pyplot as plt\n",
    "import pandas as pd\n",
    "import numpy as np\n",
    "\n",
    "\n",
    "output_path = \"../trim_output/\"\n",
    "\n",
    "file_name = input(\"Input File Name\")\n",
    "\n",
    "#read in formatted CSV\n",
    "try:\n",
    "    dataframe = pd.read_csv(output_path + file_name + \".csv\")\n",
    "    print(\"Dataframe created\")\n",
    "except:\n",
    "    print(\"Error Reading File\")\n",
    "\n",
    "\n",
    "#Show shape of the dataframe\n",
    "dataframe.describe()\n",
    "\n",
    "x_train_df = dataframe.iloc[:, 0:9]\n",
    "y_train_df = dataframe.iloc[:, 9:18]\n",
    "#display(x_train_df)\n",
    "#display(y_train_df)\n",
    "\n",
    "#Load data into Numpy array\n",
    "x_train = np.array(x_train_df)\n",
    "y_train = np.array(y_train_df)\n",
    "\n",
    "\n",
    "\n",
    "#Divide values in array by 100\n",
    "x_train_normalized = np.divide(x_train, 100)\n",
    "y_train_normalized = np.divide(y_train, 100)\n",
    "\n",
    "x_train_normalized\n",
    "\n",
    "#x_train, x_test, y_train, y_test = train_test_split(x_train_normalized, y_train_normalized)\n",
    "\n",
    "\n",
    "X = np.reshape(x_train_normalized, (len(x_train_normalized), seq_length, 1))\n",
    "\n"
   ]
  },
  {
   "cell_type": "markdown",
   "metadata": {},
   "source": [
    "#Model Creation and Training"
   ]
  },
  {
   "cell_type": "code",
   "execution_count": 1,
   "metadata": {},
   "outputs": [
    {
     "name": "stdout",
     "output_type": "stream",
     "text": [
      "Model: \"sequential\"\n",
      "_________________________________________________________________\n",
      " Layer (type)                Output Shape              Param #   \n",
      "=================================================================\n",
      " bidirectional (Bidirectiona  (None, 5, 128)           38400     \n",
      " l)                                                              \n",
      "                                                                 \n",
      " bidirectional_1 (Bidirectio  (None, 64)               41216     \n",
      " nal)                                                            \n",
      "                                                                 \n",
      " dense (Dense)               (None, 10)                650       \n",
      "                                                                 \n",
      "=================================================================\n",
      "Total params: 80,266\n",
      "Trainable params: 80,266\n",
      "Non-trainable params: 0\n",
      "_________________________________________________________________\n",
      "Model: \"sequential\"\n",
      "_________________________________________________________________\n",
      " Layer (type)                Output Shape              Param #   \n",
      "=================================================================\n",
      " bidirectional (Bidirectiona  (None, 5, 128)           38400     \n",
      " l)                                                              \n",
      "                                                                 \n",
      " bidirectional_1 (Bidirectio  (None, 64)               41216     \n",
      " nal)                                                            \n",
      "                                                                 \n",
      " dense (Dense)               (None, 10)                650       \n",
      "                                                                 \n",
      "=================================================================\n",
      "Total params: 80,266\n",
      "Trainable params: 80,266\n",
      "Non-trainable params: 0\n",
      "_________________________________________________________________\n",
      "None\n"
     ]
    }
   ],
   "source": [
    "import tensorflow as tf\n",
    "from tensorflow import keras\n",
    "from keras import layers\n",
    "model = keras.Sequential()\n",
    "\n",
    "model.add(\n",
    "    layers.Bidirectional(layers.LSTM(\n",
    "        64, return_sequences=True), input_shape=(5, 10))\n",
    ")\n",
    "model.add(layers.Bidirectional(layers.LSTM(32)))\n",
    "model.add(layers.Dense(10))\n",
    "\n",
    "model.summary()\n",
    "print(model.summary())\n"
   ]
  },
  {
   "cell_type": "code",
   "execution_count": null,
   "metadata": {},
   "outputs": [],
   "source": []
  }
 ],
 "metadata": {
  "kernelspec": {
   "display_name": "Python 3 (ipykernel)",
   "language": "python",
   "name": "python3"
  },
  "language_info": {
   "codemirror_mode": {
    "name": "ipython",
    "version": 3
   },
   "file_extension": ".py",
   "mimetype": "text/x-python",
   "name": "python",
   "nbconvert_exporter": "python",
   "pygments_lexer": "ipython3",
   "version": "3.10.2"
  },
  "vscode": {
   "interpreter": {
    "hash": "85eeaad1f84315a0c9c5600e08c8d22c182ff5487c2ae8eda931033c2f461801"
   }
  }
 },
 "nbformat": 4,
 "nbformat_minor": 4
}
