{
 "cells": [
  {
   "cell_type": "code",
   "execution_count": null,
   "id": "95e06ebb-8c25-4347-80cd-ca2fca5a972b",
   "metadata": {
    "tags": []
   },
   "outputs": [],
   "source": [
    "import os\n",
    "from mpl_toolkits import mplot3d\n",
    "import pandas as pd\n",
    "%matplotlib inline\n",
    "import numpy as np\n",
    "import matplotlib.pyplot as plt\n",
    "\n",
    "\n",
    "directory_str = \"../test_data/\"\n",
    "\n",
    "prediction_directory_str = \"../results/\"\n",
    "\n",
    "def PlotData():\n",
    "    directory = os.fsencode(directory_str)\n",
    "    \n",
    "    for file in os.listdir(directory):       \n",
    "        filename = os.fsdecode(file)\n",
    "        if filename.endswith('.csv'):\n",
    "            pd.read_csv(directory_str + filename).plot(figsize=(20,15), title = filename)\n",
    "        \n",
    "#Get the prediction data of a given directory\n",
    "def PlotPredictedData():\n",
    "    results_directory = input('Select Run Directory')\n",
    "    directory_joined = prediction_directory_str + results_directory + \"/\"\n",
    "    directory = os.fsencode(directory_joined)\n",
    "    for file in os.listdir(directory):       \n",
    "        filename = os.fsdecode(file)\n",
    "        if filename.endswith('prediction.csv'):\n",
    "            df = pd.read_csv(directory_joined + filename)\n",
    "            GetCols(df)\n",
    "        \n",
    "#Display prediction data in plot\n",
    "def GetCols(df):\n",
    "    waist_df = pd.concat([df.iloc[:,0:3], df.iloc[:,9:12]], axis = 1)\n",
    "    waist_df.plot(figsize=(20,15), title = \"Waist Plot\")\n",
    "    r_foot_df = pd.concat([df.iloc[:,3:6], df.iloc[:,12:15]], axis = 1)\n",
    "    r_foot_df.plot(figsize=(20,15), title = \"Right Foot Plot\")\n",
    "    l_foot_df = pd.concat([df.iloc[:,6:9], df.iloc[:,15:18]], axis = 1)\n",
    "    l_foot_df.plot(figsize=(20,15), title = \"Left Foot Plot\")\n"
   ]
  },
  {
   "cell_type": "code",
   "execution_count": null,
   "id": "6263796a-25ff-4422-9eee-bb513e5b2412",
   "metadata": {},
   "outputs": [],
   "source": [
    "\n",
    "PlotPredictedData()"
   ]
  },
  {
   "cell_type": "code",
   "execution_count": null,
   "id": "03abec3e-cb84-4a86-aca7-9ca467e9a489",
   "metadata": {},
   "outputs": [],
   "source": []
  }
 ],
 "metadata": {
  "kernelspec": {
   "display_name": "Python 3 (ipykernel)",
   "language": "python",
   "name": "python3"
  },
  "language_info": {
   "codemirror_mode": {
    "name": "ipython",
    "version": 3
   },
   "file_extension": ".py",
   "mimetype": "text/x-python",
   "name": "python",
   "nbconvert_exporter": "python",
   "pygments_lexer": "ipython3",
   "version": "3.10.2"
  },
  "vscode": {
   "interpreter": {
    "hash": "85eeaad1f84315a0c9c5600e08c8d22c182ff5487c2ae8eda931033c2f461801"
   }
  }
 },
 "nbformat": 4,
 "nbformat_minor": 5
}
