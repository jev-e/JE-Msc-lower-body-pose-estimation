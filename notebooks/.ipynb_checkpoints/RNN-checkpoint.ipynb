{
 "cells": [
  {
   "cell_type": "markdown",
   "metadata": {},
   "source": [
    "# Prepare Data From CSV Recording\n",
    "\n",
    "## Load File\n",
    "\n",
    "Data is loaded from a CSV recording file, accepted through an input prompt. This includes all positional data related to the 6 trackers (HMD, Left Controller, Right Controller, Waist, Left Foot, Right Foot).\n",
    "\n",
    "'Data is loaded into a Pandas dataframe. The primary tracking data is then extracted, leaving extraneous data such as booleans for button presses.\n",
    "\n",
    "The extracted columns are then concatenated into a new dataframe, and the columns are renamed for ease of reading.\n",
    "\n",
    "The columns are reorded in the order of head/r_controller/l_controller/waist/r_foot/l_foot.\n",
    "\n",
    "The new trimmed file is written to a directory (/test_data or /train_data), for further manipulation and loading into the model.\n"
   ]
  },
  {
   "cell_type": "code",
   "execution_count": null,
   "metadata": {},
   "outputs": [],
   "source": [
    "#import all modules needed in the notebook\n",
    "from datetime import datetime\n",
    "import pandas as pd\n",
    "import os\n",
    "import numpy as np\n",
    "from sklearn.model_selection import train_test_split\n",
    "from matplotlib import pyplot as plt\n",
    "#import seaborn as sb\n",
    "from sklearn.preprocessing import MinMaxScaler\n",
    "import matplotlib.pyplot as plt\n",
    "from keras.callbacks import ModelCheckpoint\n",
    "from keras.models import Sequential\n",
    "from keras.layers import Dense, Activation, Flatten, BatchNormalization\n",
    "import tensorflow as tf\n",
    "from keras.layers import LSTM, GRU\n",
    "from tensorflow.keras.optimizers import SGD\n",
    "from keras.layers.core import Dense, Activation, Dropout\n",
    "from keras.losses import SparseCategoricalCrossentropy\n",
    "\n",
    "tf.keras.backend.set_floatx('float64')\n"
   ]
  },
  {
   "cell_type": "code",
   "execution_count": null,
   "metadata": {
    "tags": []
   },
   "outputs": [],
   "source": [
    "\n",
    "#Read in CSV\n",
    "def GetRecording(path):\n",
    "    recording_path = \"../recordings/\"\n",
    "    file_name = input(\"Input Recording File Name\")\n",
    "    try:\n",
    "        dataframe = pd.read_csv(recording_path + file_name + \".csv\")\n",
    "        return dataframe, file_name\n",
    "    except: \n",
    "        print(\"Error Reading File: Check Spelling and Try Again\")\n",
    "        return 0\n",
    "    \n",
    "    \n",
    "#Seperate each tracker to seperate dataframe\n",
    "def GetColByName(dataframe):\n",
    "    HMD = dataframe.loc[:, [\"HMD0_tx\", \"HMD0_ty\", \"HMD0_tz\"]]\n",
    "    \n",
    "    controller_1 = dataframe.loc[:, ['controller3_tx', 'controller3_ty', 'controller3_tz']]\n",
    "\n",
    "    controller_2 = dataframe.loc[:, ['controller6_tx', 'controller6_ty', 'controller6_tz']]\n",
    "\n",
    "    tracker_1 = dataframe.loc[:, ['generic7_tx', 'generic7_ty', 'generic7_tz']]\n",
    "\n",
    "    tracker_2 = dataframe.loc[:, ['generic8_tx', 'generic8_ty', 'generic8_tz']]\n",
    "\n",
    "    tracker_3 = dataframe.loc[:, ['generic9_tx', 'generic9_ty', 'generic9_tz']]\n",
    "\n",
    "    joined = pd.concat([HMD,controller_1, controller_2, tracker_1 ,tracker_2 ,tracker_3], axis=1)\n",
    "    return joined\n",
    "\n",
    "#rename the now isolated trackers to a conventional naming scheme\n",
    "def AssignTracker(dataframe):\n",
    "    display(dataframe.iloc[0:1,:])\n",
    "    trackerNum = int(input('Input Tracker Number'))\n",
    "    for x in range(3):\n",
    "        trackerStr = str(trackerNum)\n",
    "        tracker = input('assign generic' + trackerStr)\n",
    "        dataframe.rename(columns={'generic' + trackerStr + '_tx': tracker + '_x', 'generic' + trackerStr + '_ty': tracker + \"_y\", 'generic' + trackerStr + '_tz': tracker + '_z'}, inplace=True)\n",
    "        trackerNum+=1\n",
    "        \n",
    "    controllerNum = 3\n",
    "    for x in range(2):\n",
    "        controllerStr = str(controllerNum)\n",
    "        controller = input('assign controller' + controllerStr)\n",
    "        dataframe.rename(columns={'controller' + controllerStr + '_tx': controller + '_x', 'controller' + controllerStr + '_ty': controller + \"_y\", 'controller' + controllerStr + '_tz': controller + '_z'}, inplace=True)\n",
    "        controllerNum += 3\n",
    "    dataframe.rename(columns={'HMD0_tx': 'head_x', 'HMD0_ty': 'head_y', 'HMD0_tz': 'head_z'}, inplace=True)\n",
    "    return dataframe\n",
    "\n",
    "#assign newly formatted data to test or train directory\n",
    "def GetDirectory():\n",
    "    choice = input(\"train or test data:\")\n",
    "    if choice == \"test\":\n",
    "        output_path = \"../test_data/\"\n",
    "    else:\n",
    "        output_path = \"../train_data/\"\n",
    "    return output_path\n",
    "\n",
    "#re-order features to head / r_controller / l_controller / waist / r_foot / l_foot\n",
    "def OrderFeatures(dataframe):\n",
    "    head = dataframe.loc[:, ['head_x', 'head_y', 'head_z']]\n",
    "    l_controller = dataframe.loc[:, ['l_controller_x', 'l_controller_y', 'l_controller_z']]\n",
    "    r_controller = dataframe.loc[:, ['r_controller_x', 'r_controller_y', 'r_controller_z']]\n",
    "    waist = dataframe.loc[:, ['waist_x', 'waist_y', 'waist_z']]\n",
    "    r_foot = dataframe.loc[:, ['r_foot_x', 'r_foot_y', 'r_foot_z']]\n",
    "    l_foot = dataframe.loc[:, ['l_foot_x', 'l_foot_y', 'l_foot_z']]\n",
    "    reordered = pd.concat([head , r_controller, l_controller, waist, r_foot, l_foot], axis=1)\n",
    "    return reordered\n",
    "\n",
    "\n",
    "# write dataframe to csv\n",
    "def WriteOutput(path, dataframe, filename):\n",
    "    output_file = path + filename + \"_trimmed.csv\"\n",
    "    dataframe.to_csv(output_file, index = False)\n",
    "    print(file_name + \" output to \" + path)\n",
    "    \n",
    "    "
   ]
  },
  {
   "cell_type": "markdown",
   "metadata": {},
   "source": [
    "# Run data trimming functions"
   ]
  },
  {
   "cell_type": "code",
   "execution_count": null,
   "metadata": {},
   "outputs": [],
   "source": [
    "recording_path = \" ../recordings\"\n",
    "dataframe, file_name = GetRecording(recording_path)\n",
    "joined = GetColByName(dataframe)\n",
    "renamed = AssignTracker(joined)\n",
    "path = GetDirectory()\n",
    "reordered = OrderFeatures(renamed)\n",
    "WriteOutput(path, reordered, file_name)\n"
   ]
  },
  {
   "cell_type": "markdown",
   "metadata": {},
   "source": [
    "# Data Normalization\n",
    "\n",
    "## Data Scaling\n",
    "\n",
    "The new CSV is loaded into memory, chosen through an input prompt\n",
    "The data is then split between the features (the HMD and controller tracking data), and the labels (the waist and foot trackers).\n",
    "These are loaded into Numpy arrays to peform normaliztion. The output from OpenVR Recorder is upscaled by 100. To correct this the array is divided by 100"
   ]
  },
  {
   "cell_type": "code",
   "execution_count": null,
   "metadata": {},
   "outputs": [],
   "source": [
    "output_path = \"../trim_output/\"\n",
    "\n",
    "#read in formatted CSV\n",
    "def ReadCSV(path):\n",
    "    file_name = input(\"Input File Name\")\n",
    "    file_list = []\n",
    "    file_list.append(file_name)\n",
    "    try:\n",
    "        dataframe = pd.read_csv(path + file_name + \".csv\")\n",
    "        print(\"Dataframe created\")\n",
    "    except:\n",
    "        print(\"Error Reading File\")\n",
    "    return dataframe, file_list\n",
    "\n",
    "def SplitFeaturesLabels(dataframe):\n",
    "    x = dataframe.iloc[:, 0:9]\n",
    "    y = dataframe.iloc[:, 9:18]\n",
    "    return x, y\n",
    "\n",
    "#Load data into Numpy array\n",
    "def LoadArray(x, y):\n",
    "    x_array = np.array(x)\n",
    "    y_array = np.array(y)\n",
    "    return x_array, y_array\n",
    "\n",
    "\n",
    "def NormalizeValues (x, y):\n",
    "    x =  np.divide(x, 100)\n",
    "    y =  np.divide(y, 100)\n",
    "    return x, y\n",
    "\n",
    "def SampleSize(x, y):\n",
    "    x_samples = x[0:600,:]\n",
    "    y_samples = y[0:600,:]\n",
    "    return x_samples, y_samples\n",
    "\n",
    "def RoundValues(x, y): \n",
    "    x_rounded = np.around(x, 3)\n",
    "    y_rounded = np.around(y, 3)\n",
    "    return x_rounded, y_rounded\n"
   ]
  },
  {
   "cell_type": "markdown",
   "metadata": {},
   "source": [
    "# Create Training Data"
   ]
  },
  {
   "cell_type": "code",
   "execution_count": null,
   "metadata": {
    "tags": []
   },
   "outputs": [],
   "source": [
    "train_path = \"../train_data/\"\n",
    "#load train data from csv\n",
    "train_dataframe, files = ReadCSV(train_path)\n",
    "\n",
    "print(files)\n",
    "#split features and labels into seperate dataframes\n",
    "x_train_df, y_train_df = SplitFeaturesLabels(train_dataframe)\n",
    "\n",
    "#convert features and labels to numpy array\n",
    "x_train, y_train = LoadArray(x_train_df, y_train_df)\n",
    "\n",
    "#Divide values in array by 100\n",
    "x_samples, y_samples = NormalizeValues(x_train, y_train)\n",
    "\n",
    "print(x_samples.shape, x_samples)\n",
    "print(y_samples.shape, y_samples)\n",
    "\n",
    "#x_train, x_test, y_train, y_test = train_test_split(x_train_normalized, y_train_normalized)\n",
    "\n",
    "\n",
    "\n"
   ]
  },
  {
   "cell_type": "markdown",
   "metadata": {},
   "source": [
    "# Scale Values"
   ]
  },
  {
   "cell_type": "code",
   "execution_count": null,
   "metadata": {
    "tags": []
   },
   "outputs": [],
   "source": [
    "print(x_samples.max())\n",
    "print(x_samples.min())\n",
    "\n",
    "print(y_samples.max())\n",
    "print(y_samples.min())\n",
    "\n",
    "scaler =MinMaxScaler()\n",
    "print(x_samples[0:1])\n",
    "scaled = scaler.fit(x_samples)\n",
    "print(scaler.transform(x_samples[0:1]))\n",
    "print(scaler.inverse_transform(x_samples[0:1]))\n"
   ]
  },
  {
   "cell_type": "markdown",
   "metadata": {},
   "source": [
    "# Reshape Training Data"
   ]
  },
  {
   "cell_type": "code",
   "execution_count": null,
   "metadata": {},
   "outputs": [],
   "source": [
    "\n",
    "def ReshapeData(x, y):\n",
    "    x_reshaped = np.expand_dims(x, axis=1)\n",
    "    y_reshaped = np.expand_dims(y, axis=1)\n",
    "\n",
    "    return x_reshaped, y_reshaped\n"
   ]
  },
  {
   "cell_type": "code",
   "execution_count": null,
   "metadata": {},
   "outputs": [],
   "source": [
    "x, y = ReshapeData(x_samples, y_samples)\n",
    "\n",
    "print(x.shape, y.shape)\n",
    "\n",
    "print(x.shape[1])\n",
    "\n",
    "print(x.shape[2])\n"
   ]
  },
  {
   "cell_type": "markdown",
   "metadata": {},
   "source": [
    "# Create Test / Validation Data"
   ]
  },
  {
   "cell_type": "code",
   "execution_count": null,
   "metadata": {
    "tags": []
   },
   "outputs": [],
   "source": [
    "#Create a single test data file\n",
    "\n",
    "test_path = \"../test_data/\"\n",
    "\n",
    "\n",
    "test_dataframe = ReadCSV(test_path)\n",
    "\n",
    "#split features and labels into seperate dataframes\n",
    "x_test_df, y_test_df = SplitFeaturesLabels(test_dataframe)\n",
    "\n",
    "#convert features and labels to numpy array\n",
    "x_test, y_test = LoadArray(x_test_df, y_test_df)\n",
    "\n",
    "#Divide values in array by 100\n",
    "x_test_normalized, y_test_normalized = NormalizeValues(x_test, y_test)\n",
    "\n",
    "x_test_samples, y_test_samples = SampleSize(x_test_normalized, y_test_normalized)\n",
    "\n",
    "x, y = ReshapeData(x_test_samples, y_test_samples)\n",
    "\n",
    "print(x.shape, y_test.shape)\n",
    "\n",
    "print(x_test.shape[1])"
   ]
  },
  {
   "cell_type": "markdown",
   "metadata": {},
   "source": [
    "# Combine Test and Train datasets\n",
    "\n",
    "Combine all data sets in /train_data and /test_data into one, for more samples when training "
   ]
  },
  {
   "cell_type": "code",
   "execution_count": null,
   "metadata": {},
   "outputs": [],
   "source": [
    "\n",
    "#Combine all datasets in a directory into one dataframe\n",
    "def CombineDatasets(path):\n",
    "    data_list = []\n",
    "    for file in os.listdir(path):\n",
    "        filename = os.fsdecode(file)\n",
    "        print(filename)\n",
    "        if filename.endswith(\".csv\"):\n",
    "            df = pd.read_csv(path + filename)\n",
    "            \n",
    "            data_list.append(df)\n",
    "         \n",
    "    \n",
    "    data_df = pd.concat(data_list, axis=0, ignore_index=True)\n",
    "    display(data_df)\n",
    "\n",
    "    return data_df\n",
    "\n"
   ]
  },
  {
   "cell_type": "code",
   "execution_count": null,
   "metadata": {},
   "outputs": [],
   "source": [
    "\n",
    "#combine data in a directory into two lists of x and y features\n",
    "def DatasetsLists(path):\n",
    "    x_list = []\n",
    "    y_list = []\n",
    "    file_list = []\n",
    "    for file in os.listdir(path):\n",
    "        filename = os.fsdecode(file)\n",
    "        print(filename)\n",
    "        if filename.endswith(\".csv\"):\n",
    "            file_list.append(filename)\n",
    "            df = pd.read_csv(path + filename)\n",
    "            x_features, y_features = SplitFeaturesLabels(df)\n",
    "            x_train, y_train = LoadArray(x_features, y_features)\n",
    "            x_normalized, y_normalized = NormalizeValues(x_train, y_train)\n",
    "            x_reshape, y_reshape = ReshapeData(x_normalized, y_normalized)\n",
    "            x_list.append(x_reshape)\n",
    "            y_list.append(y_reshape)\n",
    "    return x_list, y_list, file_list\n",
    "\n"
   ]
  },
  {
   "cell_type": "code",
   "execution_count": null,
   "metadata": {
    "tags": []
   },
   "outputs": [],
   "source": [
    "train_path = \"../train_data/\"\n",
    "x, y, files = DatasetsLists(train_path)\n"
   ]
  },
  {
   "cell_type": "markdown",
   "metadata": {},
   "source": [
    "Combine all data in the training data directory "
   ]
  },
  {
   "cell_type": "code",
   "execution_count": null,
   "metadata": {},
   "outputs": [],
   "source": [
    "train_path = \"../train_data/\"\n",
    "\n",
    "combined_train_dataframe = CombineDatasets(train_path)\n",
    "\n",
    "x_train, y_train = SplitFeaturesLabels(combined_train_dataframe)\n",
    "        \n",
    "x_train_arr, y_train_arr = LoadArray(x_train, y_train)\n",
    "\n",
    "#Divide values in array by 100\n",
    "x_train_normalized, y_train_normalized = NormalizeValues(x_train_arr, y_train_arr)\n",
    "\n",
    "\n",
    "\n",
    "\n",
    "x_train, y_train = ReshapeData(x_train_normalized, y_train_normalized)\n",
    "\n",
    "print(x_train.shape, y_train.shape)\n"
   ]
  },
  {
   "cell_type": "markdown",
   "metadata": {},
   "source": [
    "Combine all data in the test data directory"
   ]
  },
  {
   "cell_type": "code",
   "execution_count": null,
   "metadata": {
    "tags": []
   },
   "outputs": [],
   "source": [
    "test_path = \"../test_data/\"\n",
    "\n",
    "combined_test_dataframe = CombineDatasets(test_path)\n",
    "\n",
    "x_test, y_test = SplitFeaturesLabels(combined_test_dataframe)\n",
    "        \n",
    "x_test_arr, y_test_arr = LoadArray(x_test, y_test)\n",
    "\n",
    "x_test_normalized, y_test_normalized = NormalizeValues(x_test_arr, y_test_arr)\n",
    "\n",
    "\n",
    "x_test, y_test = ReshapeData(x_test_normalized, y_test_normalized)"
   ]
  },
  {
   "cell_type": "markdown",
   "metadata": {},
   "source": [
    "# Model Creation and Training"
   ]
  },
  {
   "cell_type": "markdown",
   "metadata": {},
   "source": [
    "# Model Functions"
   ]
  },
  {
   "cell_type": "code",
   "execution_count": null,
   "metadata": {},
   "outputs": [],
   "source": [
    "#Fit model to two equally sized lists of x features and y labels \n",
    "\n",
    "def FitToList(x, y, model, epoch, b_size, verbose):\n",
    "    for i in range(len(x)):\n",
    "        print(i)\n",
    "        print(x[i].shape)\n",
    "        print(y[i].shape)\n",
    "        model.fit(x[i], y[i], epochs=epoch,batch_size=b_size, verbose=verbose)\n",
    "    return epoch, b_size\n",
    "        \n",
    " # fit the model to a given set of features (x) and labels (y)    \n",
    "def FitModel(x, y, model, epoch, b_size):\n",
    "    model.fit(x, y, validation_split=0.33, epochs=epoch,batch_size = b_size)\n",
    "    return epoch, b_size\n",
    "\n",
    "    \n",
    "def EvaluateModel(x, y, model):\n",
    "    metrics = model.evaluate(x, y, batch_size=256)\n",
    "    print(\"test loss, test acc:\", metrics)\n",
    "    return metrics\n",
    "    \n",
    "    \n",
    "def PredictModel(x, y, model):\n",
    "    predictions = model.predict(x)\n",
    "    y_reshaped = y.reshape(-1,9)\n",
    "    x_reshaped = x.reshape(-1,9)\n",
    "    predictions = predictions.reshape(-1,9)\n",
    "    print(y_reshaped.shape)\n",
    "    print(x_reshaped.shape)\n",
    "    print(predictions.shape)\n",
    "    return predictions,  y_reshaped, x_reshaped\n",
    "\n",
    "\n",
    "def DisplayPredictions(prediction, actual, predicted_on, range_1, range_2):\n",
    "    if range_2 <= 0:\n",
    "        r_1 = 0\n",
    "        r_2 = len(prediction)\n",
    "    else:\n",
    "        r_1 = range_1\n",
    "        r_2 = range_2\n",
    "    print(\"predictions shape:\", prediction.shape)\n",
    "    predicted_on_df = pd.DataFrame(predicted_on, columns=[\"Head_X\", \"Head_Y\", \"Head_Z\", \"R_Controller_X\", \"R_Controller_Y\", \"R_Controller_Z\", \"L_Controller_X\", \"L_Controller_Y\", \"L_Controller_Z\"])\n",
    "    prediction_df = pd.DataFrame(prediction, columns=[\"Waist_X\", \"Waist_Y\", \"Waist_Z\", \"R_Foot_X\", \"R_Foot_Y\", \"R_Foot_Z\", \"L_Foot_X\", \"L_Foot_Y\", \"L_Foot_Z\"])\n",
    "    actual_df = pd.DataFrame(actual, columns=[\"Waist_X\", \"Waist_Y\", \"Waist_Z\", \"R_Foot_X\", \"R_Foot_Y\", \"R_Foot_Z\", \"L_Foot_X\", \"L_Foot_Y\", \"L_Foot_Z\"])\n",
    "    print(\"Actual Values\")\n",
    "    display(actual_df[r_1:r_2])\n",
    "    print(\"Predicited Values\")\n",
    "    display(prediction_df[r_1:r_2])\n",
    "    return actual_df, prediction_df, predicted_on_df\n",
    "    \n",
    "\n",
    "        "
   ]
  },
  {
   "cell_type": "markdown",
   "metadata": {},
   "source": [
    "# Model 1"
   ]
  },
  {
   "cell_type": "markdown",
   "metadata": {},
   "source": [
    "Initial test model"
   ]
  },
  {
   "cell_type": "code",
   "execution_count": null,
   "metadata": {
    "tags": []
   },
   "outputs": [],
   "source": [
    "sgd = SGD(learning_rate=0.001, momentum=0.8, decay=0.999, nesterov=False)\n",
    "\n",
    "model = Sequential()\n",
    "model.add(GRU(16, return_sequences=True, input_shape=(5, 9)))\n",
    "model.add(Dropout(0.2))\n",
    "model.add(GRU(16, return_sequences=False))\n",
    "model.add(Dropout(0.2))\n",
    "model.add(Dense(9, activation = \"linear\"))\n",
    "\n",
    "model.compile(loss='mse', optimizer=\"adam\")\n",
    "\n",
    "print ('model compiled')\n",
    "\n",
    "print (model.summary())"
   ]
  },
  {
   "cell_type": "markdown",
   "metadata": {},
   "source": [
    "# Model 2 "
   ]
  },
  {
   "cell_type": "markdown",
   "metadata": {},
   "source": [
    "Primary model"
   ]
  },
  {
   "cell_type": "code",
   "execution_count": null,
   "metadata": {},
   "outputs": [],
   "source": [
    "model_2 = Sequential()\n",
    "\n",
    "opt = SGD(learning_rate = 0.01)\n",
    "\n",
    "compile_params = [\"mse\", \"sgd\", \"accuracy\"]\n",
    "#add one GRU layer of 64 cellss with input shape 1,9\n",
    "model_2.add(GRU(28,return_sequences=True, input_shape=(1, 9)))\n",
    "\n",
    "#add dropout layer\n",
    "model_2.add(Dropout(0.2))\n",
    "\n",
    "#add second gru layer \n",
    "#model_2.add(GRU(units=28))\n",
    "\n",
    "\n",
    "#Add Dense layer with 9 outputs\n",
    "model_2.add(Dense(9))\n",
    "\n",
    "print(model_2.summary())\n",
    "\n",
    "\n",
    "#Compile model\n",
    "model_2.compile(\n",
    "    loss = compile_params[0],\n",
    "    optimizer = opt,\n",
    "    metrics = [compile_params[2]],\n",
    ")\n",
    "\n",
    "\n",
    "print(model_2.compiled_loss._losses)"
   ]
  },
  {
   "cell_type": "code",
   "execution_count": null,
   "metadata": {
    "tags": []
   },
   "outputs": [],
   "source": [
    "epochs, batch_size = FitModel(x, y, model_2, 1, 256)"
   ]
  },
  {
   "cell_type": "code",
   "execution_count": null,
   "metadata": {
    "tags": []
   },
   "outputs": [],
   "source": [
    "#Fit list of datasets to model\n",
    "\n",
    "#training_x, training_y, model to train on, epoch count, batch size, ?verbose\n",
    "epochs, batch_size = FitToList(x, y, model_2, 20, 1, 1)"
   ]
  },
  {
   "cell_type": "code",
   "execution_count": null,
   "metadata": {
    "tags": []
   },
   "outputs": [],
   "source": [
    "results = EvaluateModel(x_test, y_test, model_2)"
   ]
  },
  {
   "cell_type": "code",
   "execution_count": null,
   "metadata": {
    "tags": []
   },
   "outputs": [],
   "source": [
    "predicted_values, actual_values, predicted_on_values = PredictModel(x_test, y_test, model_2)\n",
    "\n",
    "toWriteActual, toWritePred, toWritePredictedOn = DisplayPredictions(predicted_values, actual_values, predicted_on_values, 0, 0)\n",
    "\n",
    "display(toWritePredictedOn)\n"
   ]
  },
  {
   "cell_type": "markdown",
   "metadata": {},
   "source": [
    "# Write Results to File "
   ]
  },
  {
   "cell_type": "code",
   "execution_count": null,
   "metadata": {
    "tags": []
   },
   "outputs": [],
   "source": [
    "\n",
    "def WriteResultToFile(path, pred, actual, model, metrics, file_list, epochs, b_size, predicted_on):\n",
    "    try:\n",
    "        #get current date for folder naming\n",
    "        now = datetime.now()\n",
    "        dt_string = now.strftime(\"%d_%m_%Y_%H_%M\")\n",
    "    \n",
    "        #create new folder\n",
    "        new_folder = \"run_\" + dt_string\n",
    "        os.makedirs(path + new_folder)\n",
    "\n",
    "        #loop over columns to split between actual and predicted\n",
    "        for column in actual.columns:\n",
    "            new_column = \"A_\" + column\n",
    "            actual = actual.rename(columns={column : new_column})\n",
    "        for column in pred.columns:\n",
    "            new_column = \"P_\" + column\n",
    "            pred = pred.rename(columns={column : new_column})\n",
    "\n",
    "        #combine both actual and predicted dataframes\n",
    "        results = pd.concat([actual, pred], axis=1)\n",
    "    \n",
    "        #create output path for csv write\n",
    "        output_folder = results_path + new_folder\n",
    "    \n",
    "        predicted_on.to_csv(output_folder + \"/test_values.csv\", index = False, float_format = '%.6f')\n",
    "        results.to_csv(output_folder + \"/prediction.csv\", index = False, float_format='%.6f')\n",
    "        metric_labels = [\"Loss: \", \"Accuracy: \"]    \n",
    "        compile_params_list = [\"Loss Function: \", \"Optimizer: \", \"Metrics: \"]\n",
    "        #create new txt file to output model and training data summary\n",
    "        with open(output_folder + '/summary.txt','w') as fh:\n",
    "            model.summary(print_fn=lambda x: fh.write(x + '\\n'))\n",
    "            fh.write(\"Epochs: \")\n",
    "            fh.write(str(epochs) + \"\\n\")\n",
    "            fh.write(\"Batch Size: \")\n",
    "            fh.write(str(b_size) + \"\\n\")\n",
    "            fh.write(\"Metrics:\\n\")\n",
    "            for i in range (len(metrics)):\n",
    "                fh.write(metric_labels[i])\n",
    "                fh.write(str(metrics[i]) + \"\\n\")\n",
    "            for i in range (len(compile_params)):\n",
    "                fh.write(compile_params_list[i])\n",
    "                fh.write(compile_params[i] + \"\\n\")\n",
    "            fh.write(\"Trained On:\\n\")\n",
    "            for file in file_list:\n",
    "                fh.write(file + \"\\n\")\n",
    "           \n",
    "        print(\"File Output to \" + new_folder)\n",
    "    except Exception as e:\n",
    "        \n",
    "        print(e)\n",
    "        print(\"Error Writing Results To File!\")\n",
    "        \n",
    "        \n",
    "        \n",
    "    \n",
    "    \n"
   ]
  },
  {
   "cell_type": "code",
   "execution_count": null,
   "metadata": {
    "tags": []
   },
   "outputs": [],
   "source": [
    "results_path = \"../results/\"\n",
    "\n",
    "WriteResultToFile(results_path, toWritePred, toWriteActual, model_2, results, files, epochs, batch_size, toWritePredictedOn) \n",
    "\n"
   ]
  },
  {
   "cell_type": "code",
   "execution_count": null,
   "metadata": {},
   "outputs": [],
   "source": []
  }
 ],
 "metadata": {
  "kernelspec": {
   "display_name": "Python 3 (ipykernel)",
   "language": "python",
   "name": "python3"
  },
  "language_info": {
   "codemirror_mode": {
    "name": "ipython",
    "version": 3
   },
   "file_extension": ".py",
   "mimetype": "text/x-python",
   "name": "python",
   "nbconvert_exporter": "python",
   "pygments_lexer": "ipython3",
   "version": "3.10.2"
  },
  "vscode": {
   "interpreter": {
    "hash": "85273928d8596bf28b6a3fc4ded2b0665eee93193e52c7eff13f3a9a291ee5c2"
   }
  }
 },
 "nbformat": 4,
 "nbformat_minor": 4
}
