{
 "cells": [
  {
   "cell_type": "markdown",
   "metadata": {},
   "source": [
    "# Prepare Data From CSV Recording\n",
    "\n",
    "## Load File\n",
    "\n",
    "Data is loaded from a CSV recording file, accepted through an input prompt. This includes all positional data related to the 6 trackers (HMD, Left Controller, Right Controller, Waist, Left Foot, Right Foot).\n",
    "\n",
    "'Data is loaded into a Pandas dataframe. The primary tracking data is then extracted, leaving extraneous data such as booleans for button presses.\n",
    "\n",
    "The extracted columns are then concatenated into a new dataframe, and the columns are renamed for ease of reading.\n",
    "\n",
    "The columns are reorded in the order of head/r_controller/l_controller/waist/r_foot/l_foot.\n",
    "\n",
    "The new trimmed file is written to a directory (/test_data or /train_data), for further manipulation and loading into the model.\n"
   ]
  },
  {
   "cell_type": "code",
   "execution_count": 34,
   "metadata": {
    "tags": []
   },
   "outputs": [],
   "source": [
    "import pandas as pd\n",
    "\n",
    "\n",
    "#Read in CSV\n",
    "def GetRecording(path):\n",
    "    recording_path = \"../recordings/\"\n",
    "    file_name = input(\"Input Recording File Name\")\n",
    "    try:\n",
    "        dataframe = pd.read_csv(recording_path + file_name + \".csv\")\n",
    "        return dataframe, file_name\n",
    "    except: \n",
    "        print(\"Error Reading File: Check Spelling and Try Again\")\n",
    "        return 0\n",
    "    \n",
    "    \n",
    "#Seperate each tracker to seperate dataframe\n",
    "\n",
    "def GetColByName(dataframe):\n",
    "    HMD = dataframe.loc[:, [\"HMD0_tx\", \"HMD0_ty\", \"HMD0_tz\"]]\n",
    "    \n",
    "    controller_1 = dataframe.loc[:, ['controller3_tx', 'controller3_ty', 'controller3_tz']]\n",
    "\n",
    "    controller_2 = dataframe.loc[:, ['controller4_tx', 'controller4_ty', 'controller4_tz']]\n",
    "\n",
    "    tracker_1 = dataframe.loc[:, ['generic7_tx', 'generic7_ty', 'generic7_tz']]\n",
    "\n",
    "    tracker_2 = dataframe.loc[:, ['generic8_tx', 'generic8_ty', 'generic8_tz']]\n",
    "\n",
    "    tracker_3 = dataframe.loc[:, ['generic9_tx', 'generic9_ty', 'generic9_tz']]\n",
    "\n",
    "    joined = pd.concat([HMD,controller_1, controller_2, tracker_1 ,tracker_2 ,tracker_3], axis=1)\n",
    "    return joined\n",
    "\n",
    "def AssignTracker(dataframe):\n",
    "    display(dataframe.iloc[0:1,:])\n",
    "    trackerNum = 7\n",
    "    for x in range(3):\n",
    "        trackerStr = str(trackerNum)\n",
    "        tracker = input('assign generic' + trackerStr)\n",
    "        dataframe.rename(columns={'generic' + trackerStr + '_tx': tracker + '_x', 'generic' + trackerStr + '_ty': tracker + \"_y\", 'generic' + trackerStr + '_tz': tracker + '_z'}, inplace=True)\n",
    "        trackerNum += 1\n",
    "        \n",
    "    controllerNum = 3\n",
    "    for x in range(2):\n",
    "        controllerStr = str(controllerNum)\n",
    "        controller = input('assign controller' + controllerStr)\n",
    "        dataframe.rename(columns={'controller' + controllerStr + '_tx': controller + '_x', 'controller' + controllerStr + '_ty': controller + \"_y\", 'controller' + controllerStr + '_tz': controller + '_z'}, inplace=True)\n",
    "        controllerNum += 1\n",
    "    dataframe.rename(columns={'HMD0_tx': 'head_x', 'HMD0_ty': 'head_y', 'HMD0_tz': 'head_z'}, inplace=True)\n",
    "    return dataframe\n",
    "\n",
    "def GetDirectory():\n",
    "    choice = input(\"train or test data:\")\n",
    "    if choice == \"test\":\n",
    "        output_path = \"../test_data/\"\n",
    "    else:\n",
    "        output_path = \"../train_data/\"\n",
    "    return output_path\n",
    "\n",
    "def OrderFeatures(dataframe):\n",
    "    head = dataframe.loc[:, ['head_x', 'head_y', 'head_z']]\n",
    "    l_controller = dataframe.loc[:, ['l_controller_x', 'l_controller_y', 'l_controller_z']]\n",
    "    r_controller = dataframe.loc[:, ['r_controller_x', 'r_controller_y', 'r_controller_z']]\n",
    "    waist = dataframe.loc[:, ['waist_x', 'waist_y', 'waist_z']]\n",
    "    r_foot = dataframe.loc[:, ['r_foot_x', 'r_foot_y', 'r_foot_z']]\n",
    "    l_foot = dataframe.loc[:, ['l_foot_x', 'l_foot_y', 'l_foot_z']]\n",
    "    reordered = pd.concat([head , r_controller, l_controller, waist, r_foot, l_foot], axis=1)\n",
    "    return reordered\n",
    "\n",
    "    \n",
    "    \n",
    "def WriteOutput(path, dataframe, filename):\n",
    "    output_file = path + filename + \"_trimmed.csv\"\n",
    "    dataframe.to_csv(output_file, index = False)\n",
    "    print(file_name + \" output to \" + path)\n",
    "    \n",
    "    "
   ]
  },
  {
   "cell_type": "code",
   "execution_count": 40,
   "metadata": {},
   "outputs": [
    {
     "name": "stdin",
     "output_type": "stream",
     "text": [
      "Input Recording File Name arm_raise_2\n"
     ]
    },
    {
     "data": {
      "text/html": [
       "<div>\n",
       "<style scoped>\n",
       "    .dataframe tbody tr th:only-of-type {\n",
       "        vertical-align: middle;\n",
       "    }\n",
       "\n",
       "    .dataframe tbody tr th {\n",
       "        vertical-align: top;\n",
       "    }\n",
       "\n",
       "    .dataframe thead th {\n",
       "        text-align: right;\n",
       "    }\n",
       "</style>\n",
       "<table border=\"1\" class=\"dataframe\">\n",
       "  <thead>\n",
       "    <tr style=\"text-align: right;\">\n",
       "      <th></th>\n",
       "      <th>HMD0_tx</th>\n",
       "      <th>HMD0_ty</th>\n",
       "      <th>HMD0_tz</th>\n",
       "      <th>controller3_tx</th>\n",
       "      <th>controller3_ty</th>\n",
       "      <th>controller3_tz</th>\n",
       "      <th>controller4_tx</th>\n",
       "      <th>controller4_ty</th>\n",
       "      <th>controller4_tz</th>\n",
       "      <th>generic7_tx</th>\n",
       "      <th>generic7_ty</th>\n",
       "      <th>generic7_tz</th>\n",
       "      <th>generic8_tx</th>\n",
       "      <th>generic8_ty</th>\n",
       "      <th>generic8_tz</th>\n",
       "      <th>generic9_tx</th>\n",
       "      <th>generic9_ty</th>\n",
       "      <th>generic9_tz</th>\n",
       "    </tr>\n",
       "  </thead>\n",
       "  <tbody>\n",
       "    <tr>\n",
       "      <th>0</th>\n",
       "      <td>7.488835</td>\n",
       "      <td>160.079437</td>\n",
       "      <td>-6.116605</td>\n",
       "      <td>-16.509771</td>\n",
       "      <td>80.914047</td>\n",
       "      <td>-10.186529</td>\n",
       "      <td>29.804235</td>\n",
       "      <td>82.701195</td>\n",
       "      <td>-13.233584</td>\n",
       "      <td>29.640865</td>\n",
       "      <td>11.117661</td>\n",
       "      <td>-0.257885</td>\n",
       "      <td>6.043923</td>\n",
       "      <td>102.261971</td>\n",
       "      <td>-9.864593</td>\n",
       "      <td>-10.53499</td>\n",
       "      <td>10.7512</td>\n",
       "      <td>0.808924</td>\n",
       "    </tr>\n",
       "  </tbody>\n",
       "</table>\n",
       "</div>"
      ],
      "text/plain": [
       "    HMD0_tx     HMD0_ty   HMD0_tz  controller3_tx  controller3_ty  \\\n",
       "0  7.488835  160.079437 -6.116605      -16.509771       80.914047   \n",
       "\n",
       "   controller3_tz  controller4_tx  controller4_ty  controller4_tz  \\\n",
       "0      -10.186529       29.804235       82.701195      -13.233584   \n",
       "\n",
       "   generic7_tx  generic7_ty  generic7_tz  generic8_tx  generic8_ty  \\\n",
       "0    29.640865    11.117661    -0.257885     6.043923   102.261971   \n",
       "\n",
       "   generic8_tz  generic9_tx  generic9_ty  generic9_tz  \n",
       "0    -9.864593    -10.53499      10.7512     0.808924  "
      ]
     },
     "metadata": {},
     "output_type": "display_data"
    },
    {
     "name": "stdin",
     "output_type": "stream",
     "text": [
      "assign generic7 r_foot\n",
      "assign generic8 waist\n",
      "assign generic9 l_foot\n",
      "assign controller3 l_controller\n",
      "assign controller4 r_controller\n",
      "train or test data: test\n"
     ]
    },
    {
     "name": "stdout",
     "output_type": "stream",
     "text": [
      "arm_raise_2 output to ../test_data/\n"
     ]
    }
   ],
   "source": [
    "recording_path = \" ../recordings\"\n",
    "\n",
    "dataframe, file_name = GetRecording(recording_path)\n",
    "joined = GetColByName(dataframe)\n",
    "renamed = AssignTracker(joined)\n",
    "path = GetDirectory()\n",
    "reordered = OrderFeatures(renamed)\n",
    "WriteOutput(path, reordered, file_name)\n"
   ]
  },
  {
   "cell_type": "markdown",
   "metadata": {},
   "source": [
    "# Data Normalization\n",
    "\n",
    "## Data Scaling\n",
    "\n",
    "The new CSV is loaded into memory, chosen through an input prompt\n",
    "The data is then split between the features (the HMD and controller tracking data), and the labels (the waist and foot trackers).\n",
    "These are loaded into Numpy arrays to peform normaliztion. The output from OpenVR Recorder is upscaled by 100. To correct this the array is divided by 100"
   ]
  },
  {
   "cell_type": "code",
   "execution_count": 7,
   "metadata": {},
   "outputs": [],
   "source": [
    "from sklearn.model_selection import train_test_split\n",
    "from sklearn.ensemble import RandomForestRegressor\n",
    "#from sklearn.metrics import mean_absolute_error \n",
    "from matplotlib import pyplot as plt\n",
    "#import seaborn as sb\n",
    "import matplotlib.pyplot as plt\n",
    "import pandas as pd\n",
    "import numpy as np\n",
    "\n",
    "\n",
    "output_path = \"../trim_output/\"\n",
    "\n",
    "\n",
    "#read in formatted CSV\n",
    "def ReadCSV(path):\n",
    "    file_name = input(\"Input File Name\")\n",
    "    try:\n",
    "        dataframe = pd.read_csv(path + file_name + \".csv\")\n",
    "        print(\"Dataframe created\")\n",
    "    except:\n",
    "        print(\"Error Reading File\")\n",
    "    return dataframe\n",
    "\n",
    "def SplitFeaturesLabels(dataframe):\n",
    "    x = dataframe.iloc[:, 0:9]\n",
    "    y = dataframe.iloc[:, 9:18]\n",
    "    return x, y\n",
    "\n",
    "#Load data into Numpy array\n",
    "def LoadArray(x, y):\n",
    "    x_array = np.array(x)\n",
    "    y_array = np.array(y)\n",
    "    return x_array, y_array\n",
    "\n",
    "\n",
    "def NormalizeValues (x, y):\n",
    "    x =  np.divide(x, 100)\n",
    "    y =  np.divide(y, 100)\n",
    "    return x, y\n",
    "\n",
    "def SampleSize(x, y):\n",
    "    x_samples = x[0:600,:]\n",
    "    y_samples = y[0:600,:]\n",
    "    return x_samples, y_samples\n",
    "\n",
    "def RoundValues(x, y): \n",
    "    x_rounded = np.around(x, 3)\n",
    "    y_rounded = np.around(y, 3)\n",
    "    return x_rounded, y_rounded\n",
    "\n",
    "\n",
    "\n",
    "    \n",
    "    \n",
    "\n",
    "    \n",
    "\n",
    "\n",
    "\n"
   ]
  },
  {
   "cell_type": "markdown",
   "metadata": {},
   "source": [
    "# Create Training Data"
   ]
  },
  {
   "cell_type": "code",
   "execution_count": 93,
   "metadata": {},
   "outputs": [
    {
     "name": "stdin",
     "output_type": "stream",
     "text": [
      "Input File Name walking_5_trimmed\n"
     ]
    },
    {
     "name": "stdout",
     "output_type": "stream",
     "text": [
      "Dataframe created\n",
      "(600, 9) [[ 0.10940075  1.62021332 -0.00498736 ... -0.14921427  0.82919815\n",
      "   0.02731556]\n",
      " [ 0.1088817   1.61971085 -0.0054888  ... -0.15115108  0.82919815\n",
      "   0.02825213]\n",
      " [ 0.10831941  1.61920166 -0.00607767 ... -0.15327472  0.82896408\n",
      "   0.02916744]\n",
      " ...\n",
      " [-0.54247967  1.73348389  0.52690792 ... -0.46905685  0.92502464\n",
      "   0.78830414]\n",
      " [-0.53857819  1.7332077   0.5331366  ... -0.45580254  0.92010193\n",
      "   0.78570053]\n",
      " [-0.53449398  1.73286102  0.53918907 ... -0.44247826  0.91467903\n",
      "   0.78232964]]\n",
      "(600, 9) [[ 0.06492162  0.95587555  0.02759707 ... -0.17307722  0.12311673\n",
      "   0.24024141]\n",
      " [ 0.06270361  0.95787239  0.0263968  ... -0.17276836  0.12295028\n",
      "   0.24042221]\n",
      " [ 0.0633704   0.95726311  0.02722497 ... -0.17269129  0.12314113\n",
      "   0.24044138]\n",
      " ...\n",
      " [-0.57930702  1.08024368  0.59377594 ... -0.49833176  0.22044437\n",
      "   0.48325714]\n",
      " [-0.57743893  1.08168465  0.59865074 ... -0.49415901  0.22242344\n",
      "   0.50142422]\n",
      " [-0.57473312  1.08314499  0.60363243 ... -0.48933487  0.22346127\n",
      "   0.52117264]]\n",
      "        head_x      head_y     head_z  r_controller_x  r_controller_y  \\\n",
      "0    10.940075  162.021332  -0.498736       25.016571       75.926414   \n",
      "1    10.888170  161.971085  -0.548880       24.974989       75.955833   \n",
      "2    10.831941  161.920166  -0.607767       24.957891       75.986923   \n",
      "3    10.756741  161.865829  -0.679006       24.909861       76.011055   \n",
      "4    10.664714  161.822388  -0.754129       24.857830       76.035103   \n",
      "..         ...         ...        ...             ...             ...   \n",
      "595 -54.929008  173.371552  51.401581      -82.038322       88.491493   \n",
      "596 -54.601059  173.360199  52.048725      -81.577309       88.909142   \n",
      "597 -54.247967  173.348389  52.690792      -81.064484       89.419189   \n",
      "598 -53.857819  173.320770  53.313660      -80.458153       89.918266   \n",
      "599 -53.449398  173.286102  53.918907      -79.770401       90.460541   \n",
      "\n",
      "     r_controller_z  l_controller_x  l_controller_y  l_controller_z  \n",
      "0         -3.862655      -14.921427       82.919815        2.731556  \n",
      "1         -3.881654      -15.115108       82.919815        2.825213  \n",
      "2         -3.933408      -15.327472       82.896408        2.916744  \n",
      "3         -3.961660      -15.555602       82.871437        3.011191  \n",
      "4         -4.006520      -15.811392       82.841934        3.100329  \n",
      "..              ...             ...             ...             ...  \n",
      "595       62.544647      -49.466206       93.424599       79.178352  \n",
      "596       64.412003      -48.204163       92.995560       79.040283  \n",
      "597       66.248123      -46.905685       92.502464       78.830414  \n",
      "598       68.001740      -45.580254       92.010193       78.570053  \n",
      "599       69.777473      -44.247826       91.467903       78.232964  \n",
      "\n",
      "[600 rows x 9 columns]\n"
     ]
    }
   ],
   "source": [
    "train_path =\"../train_data/\"\n",
    "#load train data from csv\n",
    "train_dataframe = ReadCSV(train_path)\n",
    "\n",
    "#split features and labels into seperate dataframes\n",
    "x_train_df, y_train_df = SplitFeaturesLabels(train_dataframe)\n",
    "\n",
    "#convert features and labels to numpy array\n",
    "x_train, y_train = LoadArray(x_train_df, y_train_df)\n",
    "\n",
    "#Divide values in array by 100\n",
    "x_train_normalized, y_train_normalized = NormalizeValues(x_train, y_train)\n",
    "\n",
    "\n",
    "x_samples, y_samples = SampleSize(x_train_normalized, y_train_normalized)\n",
    "\n",
    "print(x_samples.shape, x_samples)\n",
    "print(y_samples.shape, y_samples)\n",
    "print(x_train_df)\n",
    "#x_train, x_test, y_train, y_test = train_test_split(x_train_normalized, y_train_normalized)\n",
    "\n",
    "\n",
    "\n"
   ]
  },
  {
   "cell_type": "markdown",
   "metadata": {},
   "source": [
    "# Reshape Training Data"
   ]
  },
  {
   "cell_type": "code",
   "execution_count": 9,
   "metadata": {},
   "outputs": [],
   "source": [
    "\n",
    "def ReshapeData(x, y):\n",
    "    x_reshaped = np.expand_dims(x, axis=1)\n",
    "    y_reshaped = np.expand_dims(y, axis=1)\n",
    "\n",
    "    return x_reshaped, y_reshaped\n"
   ]
  },
  {
   "cell_type": "code",
   "execution_count": 99,
   "metadata": {},
   "outputs": [
    {
     "name": "stdout",
     "output_type": "stream",
     "text": [
      "(600, 1, 9) (600, 1, 9)\n",
      "1\n",
      "9\n"
     ]
    }
   ],
   "source": [
    "x_train, y_train = ReshapeData(x_samples, y_samples)\n",
    "\n",
    "print(x_train.shape, y_train.shape)\n",
    "\n",
    "print(x_train.shape[1])\n",
    "\n",
    "print(x_train.shape[2])\n"
   ]
  },
  {
   "cell_type": "markdown",
   "metadata": {},
   "source": [
    "# Create Test / Validation Data"
   ]
  },
  {
   "cell_type": "code",
   "execution_count": 92,
   "metadata": {
    "collapsed": true,
    "jupyter": {
     "outputs_hidden": true
    },
    "tags": []
   },
   "outputs": [
    {
     "ename": "KeyboardInterrupt",
     "evalue": "Interrupted by user",
     "output_type": "error",
     "traceback": [
      "\u001b[1;31m---------------------------------------------------------------------------\u001b[0m",
      "\u001b[1;31mKeyboardInterrupt\u001b[0m                         Traceback (most recent call last)",
      "Input \u001b[1;32mIn [92]\u001b[0m, in \u001b[0;36m<module>\u001b[1;34m\u001b[0m\n\u001b[0;32m      1\u001b[0m test_path \u001b[38;5;241m=\u001b[39m \u001b[38;5;124m\"\u001b[39m\u001b[38;5;124m../test_data/\u001b[39m\u001b[38;5;124m\"\u001b[39m\n\u001b[1;32m----> 4\u001b[0m test_dataframe \u001b[38;5;241m=\u001b[39m \u001b[43mReadCSV\u001b[49m\u001b[43m(\u001b[49m\u001b[43mtest_path\u001b[49m\u001b[43m)\u001b[49m\n\u001b[0;32m      6\u001b[0m \u001b[38;5;66;03m#split features and labels into seperate dataframes\u001b[39;00m\n\u001b[0;32m      7\u001b[0m x_test_df, y_test_df \u001b[38;5;241m=\u001b[39m SplitFeaturesLabels(test_dataframe)\n",
      "Input \u001b[1;32mIn [75]\u001b[0m, in \u001b[0;36mReadCSV\u001b[1;34m(path)\u001b[0m\n\u001b[0;32m     15\u001b[0m \u001b[38;5;28;01mdef\u001b[39;00m \u001b[38;5;21mReadCSV\u001b[39m(path):\n\u001b[1;32m---> 16\u001b[0m     file_name \u001b[38;5;241m=\u001b[39m \u001b[38;5;28;43minput\u001b[39;49m\u001b[43m(\u001b[49m\u001b[38;5;124;43m\"\u001b[39;49m\u001b[38;5;124;43mInput File Name\u001b[39;49m\u001b[38;5;124;43m\"\u001b[39;49m\u001b[43m)\u001b[49m\n\u001b[0;32m     17\u001b[0m     \u001b[38;5;28;01mtry\u001b[39;00m:\n\u001b[0;32m     18\u001b[0m         dataframe \u001b[38;5;241m=\u001b[39m pd\u001b[38;5;241m.\u001b[39mread_csv(path \u001b[38;5;241m+\u001b[39m file_name \u001b[38;5;241m+\u001b[39m \u001b[38;5;124m\"\u001b[39m\u001b[38;5;124m.csv\u001b[39m\u001b[38;5;124m\"\u001b[39m)\n",
      "File \u001b[1;32m~\\AppData\\Local\\Programs\\Python\\Python310\\lib\\site-packages\\ipykernel\\kernelbase.py:1044\u001b[0m, in \u001b[0;36mKernel.raw_input\u001b[1;34m(self, prompt)\u001b[0m\n\u001b[0;32m   1040\u001b[0m \u001b[38;5;28;01mif\u001b[39;00m \u001b[38;5;129;01mnot\u001b[39;00m \u001b[38;5;28mself\u001b[39m\u001b[38;5;241m.\u001b[39m_allow_stdin:\n\u001b[0;32m   1041\u001b[0m     \u001b[38;5;28;01mraise\u001b[39;00m StdinNotImplementedError(\n\u001b[0;32m   1042\u001b[0m         \u001b[38;5;124m\"\u001b[39m\u001b[38;5;124mraw_input was called, but this frontend does not support input requests.\u001b[39m\u001b[38;5;124m\"\u001b[39m\n\u001b[0;32m   1043\u001b[0m     )\n\u001b[1;32m-> 1044\u001b[0m \u001b[38;5;28;01mreturn\u001b[39;00m \u001b[38;5;28;43mself\u001b[39;49m\u001b[38;5;241;43m.\u001b[39;49m\u001b[43m_input_request\u001b[49m\u001b[43m(\u001b[49m\n\u001b[0;32m   1045\u001b[0m \u001b[43m    \u001b[49m\u001b[38;5;28;43mstr\u001b[39;49m\u001b[43m(\u001b[49m\u001b[43mprompt\u001b[49m\u001b[43m)\u001b[49m\u001b[43m,\u001b[49m\n\u001b[0;32m   1046\u001b[0m \u001b[43m    \u001b[49m\u001b[38;5;28;43mself\u001b[39;49m\u001b[38;5;241;43m.\u001b[39;49m\u001b[43m_parent_ident\u001b[49m\u001b[43m[\u001b[49m\u001b[38;5;124;43m\"\u001b[39;49m\u001b[38;5;124;43mshell\u001b[39;49m\u001b[38;5;124;43m\"\u001b[39;49m\u001b[43m]\u001b[49m\u001b[43m,\u001b[49m\n\u001b[0;32m   1047\u001b[0m \u001b[43m    \u001b[49m\u001b[38;5;28;43mself\u001b[39;49m\u001b[38;5;241;43m.\u001b[39;49m\u001b[43mget_parent\u001b[49m\u001b[43m(\u001b[49m\u001b[38;5;124;43m\"\u001b[39;49m\u001b[38;5;124;43mshell\u001b[39;49m\u001b[38;5;124;43m\"\u001b[39;49m\u001b[43m)\u001b[49m\u001b[43m,\u001b[49m\n\u001b[0;32m   1048\u001b[0m \u001b[43m    \u001b[49m\u001b[43mpassword\u001b[49m\u001b[38;5;241;43m=\u001b[39;49m\u001b[38;5;28;43;01mFalse\u001b[39;49;00m\u001b[43m,\u001b[49m\n\u001b[0;32m   1049\u001b[0m \u001b[43m\u001b[49m\u001b[43m)\u001b[49m\n",
      "File \u001b[1;32m~\\AppData\\Local\\Programs\\Python\\Python310\\lib\\site-packages\\ipykernel\\kernelbase.py:1089\u001b[0m, in \u001b[0;36mKernel._input_request\u001b[1;34m(self, prompt, ident, parent, password)\u001b[0m\n\u001b[0;32m   1086\u001b[0m             \u001b[38;5;28;01mbreak\u001b[39;00m\n\u001b[0;32m   1087\u001b[0m \u001b[38;5;28;01mexcept\u001b[39;00m \u001b[38;5;167;01mKeyboardInterrupt\u001b[39;00m:\n\u001b[0;32m   1088\u001b[0m     \u001b[38;5;66;03m# re-raise KeyboardInterrupt, to truncate traceback\u001b[39;00m\n\u001b[1;32m-> 1089\u001b[0m     \u001b[38;5;28;01mraise\u001b[39;00m \u001b[38;5;167;01mKeyboardInterrupt\u001b[39;00m(\u001b[38;5;124m\"\u001b[39m\u001b[38;5;124mInterrupted by user\u001b[39m\u001b[38;5;124m\"\u001b[39m) \u001b[38;5;28;01mfrom\u001b[39;00m \u001b[38;5;28mNone\u001b[39m\n\u001b[0;32m   1090\u001b[0m \u001b[38;5;28;01mexcept\u001b[39;00m \u001b[38;5;167;01mException\u001b[39;00m:\n\u001b[0;32m   1091\u001b[0m     \u001b[38;5;28mself\u001b[39m\u001b[38;5;241m.\u001b[39mlog\u001b[38;5;241m.\u001b[39mwarning(\u001b[38;5;124m\"\u001b[39m\u001b[38;5;124mInvalid Message:\u001b[39m\u001b[38;5;124m\"\u001b[39m, exc_info\u001b[38;5;241m=\u001b[39m\u001b[38;5;28;01mTrue\u001b[39;00m)\n",
      "\u001b[1;31mKeyboardInterrupt\u001b[0m: Interrupted by user"
     ]
    }
   ],
   "source": [
    "#Create a single test data file\n",
    "\n",
    "test_path = \"../test_data/\"\n",
    "\n",
    "\n",
    "test_dataframe = ReadCSV(test_path)\n",
    "\n",
    "#split features and labels into seperate dataframes\n",
    "x_test_df, y_test_df = SplitFeaturesLabels(test_dataframe)\n",
    "\n",
    "#convert features and labels to numpy array\n",
    "x_test, y_test = LoadArray(x_test_df, y_test_df)\n",
    "\n",
    "#Divide values in array by 100\n",
    "x_test_normalized, y_test_normalized = NormalizeValues(x_test, y_test)\n",
    "\n",
    "x_test_samples, y_test_samples = SampleSize(x_test_normalized, y_test_normalized)\n",
    "\n",
    "x_test, y_test = ReshapeData(x_test_samples, y_test_samples)\n",
    "\n",
    "print(x_test.shape, y_test.shape)\n",
    "\n",
    "print(x_test.shape[1])"
   ]
  },
  {
   "cell_type": "markdown",
   "metadata": {},
   "source": [
    "# Combine Test and Train datasets\n",
    "\n",
    "Combine all data sets in /train_data and /test_data into one, for more samples when training "
   ]
  },
  {
   "cell_type": "code",
   "execution_count": 4,
   "metadata": {},
   "outputs": [],
   "source": [
    "import os\n",
    "import pandas as pd\n",
    "import numpy as np\n",
    "\n",
    "\n",
    "#Combine all datasets in a directory into one dataframe\n",
    "def CombineDatasets(path):\n",
    "    data_list = []\n",
    "    for file in os.listdir(path):\n",
    "        filename = os.fsdecode(file)\n",
    "        if filename.endswith(\".csv\"):\n",
    "            df = pd.read_csv(path + filename)\n",
    "            \n",
    "            data_list.append(df)\n",
    "         \n",
    "\n",
    "    data_df = pd.concat(data_list, axis=0, ignore_index=True)\n",
    "    return data_df\n",
    "\n"
   ]
  },
  {
   "cell_type": "code",
   "execution_count": 5,
   "metadata": {},
   "outputs": [],
   "source": [
    "\n",
    "#combine data in a directory into two lists of x and y features\n",
    "def DatasetsLists(path):\n",
    "    x_list = []\n",
    "    y_list = []\n",
    "    for file in os.listdir(path):\n",
    "        filename = os.fsdecode(file)\n",
    "        print(filename)\n",
    "        if filename.endswith(\".csv\"):\n",
    "            df = pd.read_csv(path + filename)\n",
    "            x_features, y_features = SplitFeaturesLabels(df)\n",
    "            x_train, y_train = LoadArray(x_features, y_features)\n",
    "            x_normalized, y_normalized = NormalizeValues(x_train, y_train)\n",
    "            x_reshape, y_reshape = ReshapeData(x_normalized, y_normalized)\n",
    "            x_list.append(x_reshape)\n",
    "            y_list.append(y_reshape)\n",
    "    return x_list, y_list\n",
    "\n"
   ]
  },
  {
   "cell_type": "code",
   "execution_count": 10,
   "metadata": {},
   "outputs": [
    {
     "name": "stdout",
     "output_type": "stream",
     "text": [
      ".ipynb_checkpoints\n",
      "arm_raise_1_trimmed.csv\n",
      "arm_raise_3_trimmed.csv\n",
      "jumping_1_trimmed.csv\n",
      "jumping_2_trimmed.csv\n",
      "jumping_3_trimmed.csv\n",
      "leg_raise_1_trimmed.csv\n",
      "leg_raise_2_trimmed.csv\n",
      "leg_raise_3_trimmed.csv\n",
      "leg_raise_4_trimmed.csv\n",
      "sitting_standing_1_trimmed.csv\n",
      "sitting_standing_2_trimmed.csv\n",
      "sitting_standing_3_trimmed.csv\n",
      "walking_1_train.csv\n",
      "walking_2_test.csv\n",
      "walking_3_trimmed.csv\n",
      "walking_5_trimmed.csv\n"
     ]
    }
   ],
   "source": [
    "train_path = \"../train_data/\"\n",
    "x, y = DatasetsLists(train_path)\n"
   ]
  },
  {
   "cell_type": "markdown",
   "metadata": {},
   "source": [
    "Combine all data in the training data directory "
   ]
  },
  {
   "cell_type": "code",
   "execution_count": 178,
   "metadata": {},
   "outputs": [
    {
     "name": "stdout",
     "output_type": "stream",
     "text": [
      "(11908, 1, 9) (11908, 1, 9)\n"
     ]
    }
   ],
   "source": [
    "train_path = \"../train_data/\"\n",
    "\n",
    "combined_train_dataframe = CombineDatasets(train_path)\n",
    "\n",
    "x_train, y_train = SplitFeaturesLabels(combined_train_dataframe)\n",
    "        \n",
    "x_train_arr, y_train_arr = LoadArray(x_train, y_train)\n",
    "\n",
    "#Divide values in array by 100\n",
    "x_train_normalized, y_train_normalized = NormalizeValues(x_train_arr, y_train_arr)\n",
    "\n",
    "x_train, y_train = ReshapeData(x_train_normalized, y_train_normalized)\n",
    "\n",
    "print(x_train.shape, y_train.shape)\n"
   ]
  },
  {
   "cell_type": "markdown",
   "metadata": {},
   "source": [
    "Combine all data in the test data directory"
   ]
  },
  {
   "cell_type": "code",
   "execution_count": 15,
   "metadata": {},
   "outputs": [
    {
     "name": "stdout",
     "output_type": "stream",
     "text": [
      "(3000, 1, 9)\n",
      "[[[ 0.07488835  1.60079437 -0.06116605  0.29804235  0.82701195\n",
      "   -0.13233584 -0.16509771  0.80914047 -0.10186529]]]\n",
      "(3000, 9)\n"
     ]
    }
   ],
   "source": [
    "test_path = \"../test_data/\"\n",
    "\n",
    "combined_test_dataframe = CombineDatasets(test_path)\n",
    "\n",
    "x_test, y_test = SplitFeaturesLabels(combined_test_dataframe)\n",
    "        \n",
    "x_test_arr, y_test_arr = LoadArray(x_test, y_test)\n",
    "\n",
    "x_test_normalized, y_test_normalized = NormalizeValues(x_test_arr, y_test_arr)\n",
    "\n",
    "x_test, y_test = ReshapeData(x_test_normalized, y_test_normalized)\n",
    "\n",
    "print(x_test.shape)\n",
    "print(x_test[0:1,:,:])\n",
    "print(x_test_normalized.shape)\n"
   ]
  },
  {
   "cell_type": "markdown",
   "metadata": {},
   "source": [
    "# Model Creation and Training"
   ]
  },
  {
   "cell_type": "code",
   "execution_count": 1,
   "metadata": {},
   "outputs": [
    {
     "name": "stdout",
     "output_type": "stream",
     "text": [
      "model compiled\n",
      "Model: \"sequential\"\n",
      "_________________________________________________________________\n",
      " Layer (type)                Output Shape              Param #   \n",
      "=================================================================\n",
      " gru (GRU)                   (None, 1, 16)             1296      \n",
      "                                                                 \n",
      " dropout (Dropout)           (None, 1, 16)             0         \n",
      "                                                                 \n",
      " gru_1 (GRU)                 (None, 16)                1632      \n",
      "                                                                 \n",
      " dropout_1 (Dropout)         (None, 16)                0         \n",
      "                                                                 \n",
      " dense (Dense)               (None, 9)                 153       \n",
      "                                                                 \n",
      "=================================================================\n",
      "Total params: 3,081\n",
      "Trainable params: 3,081\n",
      "Non-trainable params: 0\n",
      "_________________________________________________________________\n",
      "None\n"
     ]
    }
   ],
   "source": [
    "from keras.callbacks import ModelCheckpoint\n",
    "from keras.models import Sequential\n",
    "from keras.layers import Dense, Activation, Flatten\n",
    "import tensorflow as tf\n",
    "from keras.layers import LSTM, GRU\n",
    "from tensorflow.keras.optimizers import SGD\n",
    "from keras.layers.core import Dense, Activation, Dropout\n",
    "\n",
    "\n",
    "sgd = SGD(learning_rate=0.001, momentum=0.8, decay=0.999, nesterov=False)\n",
    "\n",
    "tf.keras.backend.set_floatx('float64')\n",
    "\n",
    "model = Sequential()\n",
    "model.add(GRU(16, return_sequences=True, input_shape=(1, 9)))\n",
    "model.add(Dropout(0.2))\n",
    "model.add(GRU(16, return_sequences=False))\n",
    "model.add(Dropout(0.2))\n",
    "model.add(Dense(9, activation = \"linear\"))\n",
    "\n",
    "model.compile(loss='mse', optimizer=\"adam\")\n",
    "\n",
    "print ('model compiled')\n",
    "\n",
    "print (model.summary())"
   ]
  },
  {
   "cell_type": "code",
   "execution_count": 11,
   "metadata": {
    "tags": []
   },
   "outputs": [],
   "source": [
    "# fit the model to a given set of features (x) and labels (y)    \n",
    "def FitModel(x, y):\n",
    "    model.fit(x, y, epochs=1500,batch_size=256)\n",
    "       "
   ]
  },
  {
   "cell_type": "code",
   "execution_count": 12,
   "metadata": {
    "tags": []
   },
   "outputs": [],
   "source": [
    "#Fit model to two equally sized lists of x features and y labels \n",
    "\n",
    "def FitToList(x, y):\n",
    "    for i in range(len(x)):\n",
    "        print(i)\n",
    "        print(x[i].shape)\n",
    "        print(y[i].shape)\n",
    "        model.fit(x[i], y[i], epochs=1500,batch_size=256, verbose=0)\n",
    "        \n"
   ]
  },
  {
   "cell_type": "code",
   "execution_count": 13,
   "metadata": {
    "tags": []
   },
   "outputs": [
    {
     "name": "stdout",
     "output_type": "stream",
     "text": [
      "0\n",
      "(905, 1, 9)\n",
      "(905, 1, 9)\n",
      "1\n",
      "(600, 1, 9)\n",
      "(600, 1, 9)\n",
      "2\n",
      "(916, 1, 9)\n",
      "(916, 1, 9)\n",
      "3\n",
      "(600, 1, 9)\n",
      "(600, 1, 9)\n",
      "4\n",
      "(600, 1, 9)\n",
      "(600, 1, 9)\n",
      "5\n",
      "(934, 1, 9)\n",
      "(934, 1, 9)\n",
      "6\n",
      "(600, 1, 9)\n",
      "(600, 1, 9)\n",
      "7\n",
      "(600, 1, 9)\n",
      "(600, 1, 9)\n",
      "8\n",
      "(600, 1, 9)\n",
      "(600, 1, 9)\n",
      "9\n",
      "(1103, 1, 9)\n",
      "(1103, 1, 9)\n",
      "10\n",
      "(600, 1, 9)\n",
      "(600, 1, 9)\n",
      "11\n",
      "(600, 1, 9)\n",
      "(600, 1, 9)\n",
      "12\n",
      "(972, 1, 9)\n",
      "(972, 1, 9)\n",
      "13\n",
      "(1078, 1, 9)\n",
      "(1078, 1, 9)\n",
      "14\n",
      "(600, 1, 9)\n",
      "(600, 1, 9)\n",
      "15\n",
      "(600, 1, 9)\n",
      "(600, 1, 9)\n"
     ]
    }
   ],
   "source": [
    "FitToList(x, y)"
   ]
  },
  {
   "cell_type": "code",
   "execution_count": 16,
   "metadata": {
    "tags": []
   },
   "outputs": [
    {
     "name": "stdout",
     "output_type": "stream",
     "text": [
      "12/12 [==============================] - 0s 3ms/step - loss: 0.0654\n"
     ]
    },
    {
     "data": {
      "text/plain": [
       "0.06542097796996435"
      ]
     },
     "execution_count": 16,
     "metadata": {},
     "output_type": "execute_result"
    }
   ],
   "source": [
    "model.evaluate(x_test, y_test, batch_size=256)"
   ]
  },
  {
   "cell_type": "code",
   "execution_count": 17,
   "metadata": {},
   "outputs": [],
   "source": [
    "range_1 = 2000\n",
    "range_2 = 2050\n",
    "\n",
    "predictions = model.predict(x_test[range_1:range_2,:,:])\n",
    "arr = y_test.reshape(-1,9)\n"
   ]
  },
  {
   "cell_type": "code",
   "execution_count": 18,
   "metadata": {},
   "outputs": [
    {
     "name": "stdout",
     "output_type": "stream",
     "text": [
      "predictions shape: (1, 9)\n",
      "Actual Values\n"
     ]
    },
    {
     "data": {
      "text/html": [
       "<div>\n",
       "<style scoped>\n",
       "    .dataframe tbody tr th:only-of-type {\n",
       "        vertical-align: middle;\n",
       "    }\n",
       "\n",
       "    .dataframe tbody tr th {\n",
       "        vertical-align: top;\n",
       "    }\n",
       "\n",
       "    .dataframe thead th {\n",
       "        text-align: right;\n",
       "    }\n",
       "</style>\n",
       "<table border=\"1\" class=\"dataframe\">\n",
       "  <thead>\n",
       "    <tr style=\"text-align: right;\">\n",
       "      <th></th>\n",
       "      <th>Waist_X</th>\n",
       "      <th>Waist_Y</th>\n",
       "      <th>Waist_Z</th>\n",
       "      <th>Rigth_Foot_X</th>\n",
       "      <th>Right_Foot_Y</th>\n",
       "      <th>Right_Foot_Z</th>\n",
       "      <th>Left_Foot_X</th>\n",
       "      <th>Left_Foot_Y</th>\n",
       "      <th>Left_Foot_Z</th>\n",
       "    </tr>\n",
       "  </thead>\n",
       "  <tbody>\n",
       "    <tr>\n",
       "      <th>0</th>\n",
       "      <td>0.180749</td>\n",
       "      <td>1.018222</td>\n",
       "      <td>-0.078071</td>\n",
       "      <td>0.128831</td>\n",
       "      <td>0.12028</td>\n",
       "      <td>-0.047938</td>\n",
       "      <td>0.001302</td>\n",
       "      <td>0.130428</td>\n",
       "      <td>-0.181753</td>\n",
       "    </tr>\n",
       "  </tbody>\n",
       "</table>\n",
       "</div>"
      ],
      "text/plain": [
       "    Waist_X   Waist_Y   Waist_Z  Rigth_Foot_X  Right_Foot_Y  Right_Foot_Z  \\\n",
       "0  0.180749  1.018222 -0.078071      0.128831       0.12028     -0.047938   \n",
       "\n",
       "   Left_Foot_X  Left_Foot_Y  Left_Foot_Z  \n",
       "0     0.001302     0.130428    -0.181753  "
      ]
     },
     "metadata": {},
     "output_type": "display_data"
    },
    {
     "name": "stdout",
     "output_type": "stream",
     "text": [
      "Predicited Values\n"
     ]
    },
    {
     "data": {
      "text/html": [
       "<div>\n",
       "<style scoped>\n",
       "    .dataframe tbody tr th:only-of-type {\n",
       "        vertical-align: middle;\n",
       "    }\n",
       "\n",
       "    .dataframe tbody tr th {\n",
       "        vertical-align: top;\n",
       "    }\n",
       "\n",
       "    .dataframe thead th {\n",
       "        text-align: right;\n",
       "    }\n",
       "</style>\n",
       "<table border=\"1\" class=\"dataframe\">\n",
       "  <thead>\n",
       "    <tr style=\"text-align: right;\">\n",
       "      <th></th>\n",
       "      <th>Waist_X</th>\n",
       "      <th>Waist_Y</th>\n",
       "      <th>Waist_Z</th>\n",
       "      <th>Rigth_Foot_X</th>\n",
       "      <th>Right_Foot_Y</th>\n",
       "      <th>Right_Foot_Z</th>\n",
       "      <th>Left_Foot_X</th>\n",
       "      <th>Left_Foot_Y</th>\n",
       "      <th>Left_Foot_Z</th>\n",
       "    </tr>\n",
       "  </thead>\n",
       "  <tbody>\n",
       "    <tr>\n",
       "      <th>0</th>\n",
       "      <td>-0.117515</td>\n",
       "      <td>1.017878</td>\n",
       "      <td>0.33768</td>\n",
       "      <td>-0.151143</td>\n",
       "      <td>0.157235</td>\n",
       "      <td>0.392306</td>\n",
       "      <td>-0.137793</td>\n",
       "      <td>0.150065</td>\n",
       "      <td>0.409571</td>\n",
       "    </tr>\n",
       "  </tbody>\n",
       "</table>\n",
       "</div>"
      ],
      "text/plain": [
       "    Waist_X   Waist_Y  Waist_Z  Rigth_Foot_X  Right_Foot_Y  Right_Foot_Z  \\\n",
       "0 -0.117515  1.017878  0.33768     -0.151143      0.157235      0.392306   \n",
       "\n",
       "   Left_Foot_X  Left_Foot_Y  Left_Foot_Z  \n",
       "0    -0.137793     0.150065     0.409571  "
      ]
     },
     "metadata": {},
     "output_type": "display_data"
    }
   ],
   "source": [
    "print(\"predictions shape:\", predictions.shape)\n",
    "\n",
    "prediction_DF = pd.DataFrame(predictions, columns=[\"Waist_X\", \"Waist_Y\", \"Waist_Z\", \"Rigth_Foot_X\", \"Right_Foot_Y\", \"Right_Foot_Z\", \"Left_Foot_X\", \"Left_Foot_Y\", \"Left_Foot_Z\"])\n",
    "Actual_DF = pd.DataFrame(arr[range_1:range_2], columns=[\"Waist_X\", \"Waist_Y\", \"Waist_Z\", \"Rigth_Foot_X\", \"Right_Foot_Y\", \"Right_Foot_Z\", \"Left_Foot_X\", \"Left_Foot_Y\", \"Left_Foot_Z\"])\n",
    "\n",
    "\n",
    "print(\"Actual Values\")\n",
    "display(Actual_DF)\n",
    "print(\"Predicited Values\")\n",
    "display(prediction_DF)\n",
    "\n"
   ]
  },
  {
   "cell_type": "code",
   "execution_count": null,
   "metadata": {},
   "outputs": [],
   "source": []
  }
 ],
 "metadata": {
  "kernelspec": {
   "display_name": "Python 3 (ipykernel)",
   "language": "python",
   "name": "python3"
  },
  "language_info": {
   "codemirror_mode": {
    "name": "ipython",
    "version": 3
   },
   "file_extension": ".py",
   "mimetype": "text/x-python",
   "name": "python",
   "nbconvert_exporter": "python",
   "pygments_lexer": "ipython3",
   "version": "3.10.2"
  },
  "vscode": {
   "interpreter": {
    "hash": "85273928d8596bf28b6a3fc4ded2b0665eee93193e52c7eff13f3a9a291ee5c2"
   }
  }
 },
 "nbformat": 4,
 "nbformat_minor": 4
}
