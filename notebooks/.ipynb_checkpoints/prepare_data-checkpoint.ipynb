{
 "cells": [
  {
   "cell_type": "code",
   "execution_count": null,
   "metadata": {},
   "outputs": [],
   "source": [
    "#Prepare Data From CSV Recording\n",
    "\n",
    "##Load File\n",
    "\n",
    "'Data is loaded from a CSV recording file, accepted through an input prompt. This includes all positional data related to the 6 trackers (HMD, Left Controller, Right Controller, Waist, Left Foot, Right Foot).'\n",
    "\n",
    "'Data is loaded into a Pandas dataframe. The primary tracking data is then extracted, leaving extraneous data such as booleans for button presses.'\n",
    "\n",
    "'The extracted columns are then concatenated into a new dataframe, and the columns are renamed for ease of reading.' \n",
    "\n",
    "'The new trimmed file is written to a directory (/trim_output), for further manipulation and loading into the model.'\n"
   ]
  },
  {
   "cell_type": "code",
   "execution_count": 22,
   "metadata": {},
   "outputs": [
    {
     "name": "stdout",
     "output_type": "stream",
     "text": [
      "Error Reading File: Check Spelling and Try Again\n"
     ]
    },
    {
     "ename": "ValueError",
     "evalue": "Length mismatch: Expected axis has 6 elements, new values have 18 elements",
     "output_type": "error",
     "traceback": [
      "\u001b[1;31m---------------------------------------------------------------------------\u001b[0m",
      "\u001b[1;31mValueError\u001b[0m                                Traceback (most recent call last)",
      "\u001b[1;32mc:\\Users\\jev\\Documents\\LIV Project\\notebooks\\prepare_data.ipynb Cell 1'\u001b[0m in \u001b[0;36m<cell line: 28>\u001b[1;34m()\u001b[0m\n\u001b[0;32m     <a href='vscode-notebook-cell:/c%3A/Users/jev/Documents/LIV%20Project/notebooks/prepare_data.ipynb#ch0000000?line=23'>24</a>\u001b[0m joined \u001b[39m=\u001b[39m pd\u001b[39m.\u001b[39mconcat([HMD, controller_1, controller_2,\n\u001b[0;32m     <a href='vscode-notebook-cell:/c%3A/Users/jev/Documents/LIV%20Project/notebooks/prepare_data.ipynb#ch0000000?line=24'>25</a>\u001b[0m                    waist, left_foot, right_foot], axis\u001b[39m=\u001b[39m\u001b[39m1\u001b[39m)\n\u001b[0;32m     <a href='vscode-notebook-cell:/c%3A/Users/jev/Documents/LIV%20Project/notebooks/prepare_data.ipynb#ch0000000?line=26'>27</a>\u001b[0m \u001b[39m# set new column headers\u001b[39;00m\n\u001b[1;32m---> <a href='vscode-notebook-cell:/c%3A/Users/jev/Documents/LIV%20Project/notebooks/prepare_data.ipynb#ch0000000?line=27'>28</a>\u001b[0m joined\u001b[39m.\u001b[39mcolumns \u001b[39m=\u001b[39m [\n\u001b[0;32m     <a href='vscode-notebook-cell:/c%3A/Users/jev/Documents/LIV%20Project/notebooks/prepare_data.ipynb#ch0000000?line=28'>29</a>\u001b[0m     \u001b[39m\"\u001b[39m\u001b[39mhead_x\u001b[39m\u001b[39m\"\u001b[39m,\n\u001b[0;32m     <a href='vscode-notebook-cell:/c%3A/Users/jev/Documents/LIV%20Project/notebooks/prepare_data.ipynb#ch0000000?line=29'>30</a>\u001b[0m     \u001b[39m\"\u001b[39m\u001b[39mhead_y\u001b[39m\u001b[39m\"\u001b[39m,\n\u001b[0;32m     <a href='vscode-notebook-cell:/c%3A/Users/jev/Documents/LIV%20Project/notebooks/prepare_data.ipynb#ch0000000?line=30'>31</a>\u001b[0m     \u001b[39m\"\u001b[39m\u001b[39mhead_z\u001b[39m\u001b[39m\"\u001b[39m,\n\u001b[0;32m     <a href='vscode-notebook-cell:/c%3A/Users/jev/Documents/LIV%20Project/notebooks/prepare_data.ipynb#ch0000000?line=31'>32</a>\u001b[0m     \u001b[39m\"\u001b[39m\u001b[39mr_controller_x\u001b[39m\u001b[39m\"\u001b[39m,\n\u001b[0;32m     <a href='vscode-notebook-cell:/c%3A/Users/jev/Documents/LIV%20Project/notebooks/prepare_data.ipynb#ch0000000?line=32'>33</a>\u001b[0m     \u001b[39m\"\u001b[39m\u001b[39mr_controller_y\u001b[39m\u001b[39m\"\u001b[39m,\n\u001b[0;32m     <a href='vscode-notebook-cell:/c%3A/Users/jev/Documents/LIV%20Project/notebooks/prepare_data.ipynb#ch0000000?line=33'>34</a>\u001b[0m     \u001b[39m\"\u001b[39m\u001b[39mr_controller_1_z\u001b[39m\u001b[39m\"\u001b[39m,\n\u001b[0;32m     <a href='vscode-notebook-cell:/c%3A/Users/jev/Documents/LIV%20Project/notebooks/prepare_data.ipynb#ch0000000?line=34'>35</a>\u001b[0m     \u001b[39m\"\u001b[39m\u001b[39ml_controller_x\u001b[39m\u001b[39m\"\u001b[39m,\n\u001b[0;32m     <a href='vscode-notebook-cell:/c%3A/Users/jev/Documents/LIV%20Project/notebooks/prepare_data.ipynb#ch0000000?line=35'>36</a>\u001b[0m     \u001b[39m\"\u001b[39m\u001b[39ml_controller_y\u001b[39m\u001b[39m\"\u001b[39m,\n\u001b[0;32m     <a href='vscode-notebook-cell:/c%3A/Users/jev/Documents/LIV%20Project/notebooks/prepare_data.ipynb#ch0000000?line=36'>37</a>\u001b[0m     \u001b[39m\"\u001b[39m\u001b[39ml_controller_z\u001b[39m\u001b[39m\"\u001b[39m,\n\u001b[0;32m     <a href='vscode-notebook-cell:/c%3A/Users/jev/Documents/LIV%20Project/notebooks/prepare_data.ipynb#ch0000000?line=37'>38</a>\u001b[0m     \u001b[39m\"\u001b[39m\u001b[39mwaist_x\u001b[39m\u001b[39m\"\u001b[39m,\n\u001b[0;32m     <a href='vscode-notebook-cell:/c%3A/Users/jev/Documents/LIV%20Project/notebooks/prepare_data.ipynb#ch0000000?line=38'>39</a>\u001b[0m     \u001b[39m\"\u001b[39m\u001b[39mwaist_y\u001b[39m\u001b[39m\"\u001b[39m,\n\u001b[0;32m     <a href='vscode-notebook-cell:/c%3A/Users/jev/Documents/LIV%20Project/notebooks/prepare_data.ipynb#ch0000000?line=39'>40</a>\u001b[0m     \u001b[39m\"\u001b[39m\u001b[39mwaist_z\u001b[39m\u001b[39m\"\u001b[39m,\n\u001b[0;32m     <a href='vscode-notebook-cell:/c%3A/Users/jev/Documents/LIV%20Project/notebooks/prepare_data.ipynb#ch0000000?line=40'>41</a>\u001b[0m     \u001b[39m\"\u001b[39m\u001b[39mr_foot_x\u001b[39m\u001b[39m\"\u001b[39m,\n\u001b[0;32m     <a href='vscode-notebook-cell:/c%3A/Users/jev/Documents/LIV%20Project/notebooks/prepare_data.ipynb#ch0000000?line=41'>42</a>\u001b[0m     \u001b[39m\"\u001b[39m\u001b[39mr_foot_y\u001b[39m\u001b[39m\"\u001b[39m,\n\u001b[0;32m     <a href='vscode-notebook-cell:/c%3A/Users/jev/Documents/LIV%20Project/notebooks/prepare_data.ipynb#ch0000000?line=42'>43</a>\u001b[0m     \u001b[39m\"\u001b[39m\u001b[39mr_foot_z\u001b[39m\u001b[39m\"\u001b[39m,\n\u001b[0;32m     <a href='vscode-notebook-cell:/c%3A/Users/jev/Documents/LIV%20Project/notebooks/prepare_data.ipynb#ch0000000?line=43'>44</a>\u001b[0m     \u001b[39m\"\u001b[39m\u001b[39ml_foot_x\u001b[39m\u001b[39m\"\u001b[39m,\n\u001b[0;32m     <a href='vscode-notebook-cell:/c%3A/Users/jev/Documents/LIV%20Project/notebooks/prepare_data.ipynb#ch0000000?line=44'>45</a>\u001b[0m     \u001b[39m\"\u001b[39m\u001b[39ml_foot_y\u001b[39m\u001b[39m\"\u001b[39m,\n\u001b[0;32m     <a href='vscode-notebook-cell:/c%3A/Users/jev/Documents/LIV%20Project/notebooks/prepare_data.ipynb#ch0000000?line=45'>46</a>\u001b[0m     \u001b[39m\"\u001b[39m\u001b[39ml_foot_z\u001b[39m\u001b[39m\"\u001b[39m\n\u001b[0;32m     <a href='vscode-notebook-cell:/c%3A/Users/jev/Documents/LIV%20Project/notebooks/prepare_data.ipynb#ch0000000?line=46'>47</a>\u001b[0m ]\n\u001b[0;32m     <a href='vscode-notebook-cell:/c%3A/Users/jev/Documents/LIV%20Project/notebooks/prepare_data.ipynb#ch0000000?line=49'>50</a>\u001b[0m \u001b[39m# output to new csv\u001b[39;00m\n\u001b[0;32m     <a href='vscode-notebook-cell:/c%3A/Users/jev/Documents/LIV%20Project/notebooks/prepare_data.ipynb#ch0000000?line=50'>51</a>\u001b[0m output_file \u001b[39m=\u001b[39m output_path \u001b[39m+\u001b[39m file_name \u001b[39m+\u001b[39m \u001b[39m\"\u001b[39m\u001b[39m_trimmed.csv\u001b[39m\u001b[39m\"\u001b[39m\n",
      "File \u001b[1;32mc:\\Users\\jev\\AppData\\Local\\Programs\\Python\\Python310\\lib\\site-packages\\pandas\\core\\generic.py:5588\u001b[0m, in \u001b[0;36mNDFrame.__setattr__\u001b[1;34m(self, name, value)\u001b[0m\n\u001b[0;32m   5586\u001b[0m \u001b[39mtry\u001b[39;00m:\n\u001b[0;32m   5587\u001b[0m     \u001b[39mobject\u001b[39m\u001b[39m.\u001b[39m\u001b[39m__getattribute__\u001b[39m(\u001b[39mself\u001b[39m, name)\n\u001b[1;32m-> 5588\u001b[0m     \u001b[39mreturn\u001b[39;00m \u001b[39mobject\u001b[39;49m\u001b[39m.\u001b[39;49m\u001b[39m__setattr__\u001b[39;49m(\u001b[39mself\u001b[39;49m, name, value)\n\u001b[0;32m   5589\u001b[0m \u001b[39mexcept\u001b[39;00m \u001b[39mAttributeError\u001b[39;00m:\n\u001b[0;32m   5590\u001b[0m     \u001b[39mpass\u001b[39;00m\n",
      "File \u001b[1;32mc:\\Users\\jev\\AppData\\Local\\Programs\\Python\\Python310\\lib\\site-packages\\pandas\\_libs\\properties.pyx:70\u001b[0m, in \u001b[0;36mpandas._libs.properties.AxisProperty.__set__\u001b[1;34m()\u001b[0m\n",
      "File \u001b[1;32mc:\\Users\\jev\\AppData\\Local\\Programs\\Python\\Python310\\lib\\site-packages\\pandas\\core\\generic.py:769\u001b[0m, in \u001b[0;36mNDFrame._set_axis\u001b[1;34m(self, axis, labels)\u001b[0m\n\u001b[0;32m    767\u001b[0m \u001b[39mdef\u001b[39;00m \u001b[39m_set_axis\u001b[39m(\u001b[39mself\u001b[39m, axis: \u001b[39mint\u001b[39m, labels: Index) \u001b[39m-\u001b[39m\u001b[39m>\u001b[39m \u001b[39mNone\u001b[39;00m:\n\u001b[0;32m    768\u001b[0m     labels \u001b[39m=\u001b[39m ensure_index(labels)\n\u001b[1;32m--> 769\u001b[0m     \u001b[39mself\u001b[39;49m\u001b[39m.\u001b[39;49m_mgr\u001b[39m.\u001b[39;49mset_axis(axis, labels)\n\u001b[0;32m    770\u001b[0m     \u001b[39mself\u001b[39m\u001b[39m.\u001b[39m_clear_item_cache()\n",
      "File \u001b[1;32mc:\\Users\\jev\\AppData\\Local\\Programs\\Python\\Python310\\lib\\site-packages\\pandas\\core\\internals\\managers.py:214\u001b[0m, in \u001b[0;36mBaseBlockManager.set_axis\u001b[1;34m(self, axis, new_labels)\u001b[0m\n\u001b[0;32m    212\u001b[0m \u001b[39mdef\u001b[39;00m \u001b[39mset_axis\u001b[39m(\u001b[39mself\u001b[39m, axis: \u001b[39mint\u001b[39m, new_labels: Index) \u001b[39m-\u001b[39m\u001b[39m>\u001b[39m \u001b[39mNone\u001b[39;00m:\n\u001b[0;32m    213\u001b[0m     \u001b[39m# Caller is responsible for ensuring we have an Index object.\u001b[39;00m\n\u001b[1;32m--> 214\u001b[0m     \u001b[39mself\u001b[39;49m\u001b[39m.\u001b[39;49m_validate_set_axis(axis, new_labels)\n\u001b[0;32m    215\u001b[0m     \u001b[39mself\u001b[39m\u001b[39m.\u001b[39maxes[axis] \u001b[39m=\u001b[39m new_labels\n",
      "File \u001b[1;32mc:\\Users\\jev\\AppData\\Local\\Programs\\Python\\Python310\\lib\\site-packages\\pandas\\core\\internals\\base.py:69\u001b[0m, in \u001b[0;36mDataManager._validate_set_axis\u001b[1;34m(self, axis, new_labels)\u001b[0m\n\u001b[0;32m     66\u001b[0m     \u001b[39mpass\u001b[39;00m\n\u001b[0;32m     68\u001b[0m \u001b[39melif\u001b[39;00m new_len \u001b[39m!=\u001b[39m old_len:\n\u001b[1;32m---> 69\u001b[0m     \u001b[39mraise\u001b[39;00m \u001b[39mValueError\u001b[39;00m(\n\u001b[0;32m     70\u001b[0m         \u001b[39mf\u001b[39m\u001b[39m\"\u001b[39m\u001b[39mLength mismatch: Expected axis has \u001b[39m\u001b[39m{\u001b[39;00mold_len\u001b[39m}\u001b[39;00m\u001b[39m elements, new \u001b[39m\u001b[39m\"\u001b[39m\n\u001b[0;32m     71\u001b[0m         \u001b[39mf\u001b[39m\u001b[39m\"\u001b[39m\u001b[39mvalues have \u001b[39m\u001b[39m{\u001b[39;00mnew_len\u001b[39m}\u001b[39;00m\u001b[39m elements\u001b[39m\u001b[39m\"\u001b[39m\n\u001b[0;32m     72\u001b[0m     )\n",
      "\u001b[1;31mValueError\u001b[0m: Length mismatch: Expected axis has 6 elements, new values have 18 elements"
     ]
    }
   ],
   "source": [
    "import numpy as np \n",
    "import pandas as pd\n",
    "\n",
    "recording_path = \"../recordings/\"\n",
    "output_path = \"../trim_output/\"\n",
    "file_name = input(\"Input File Name\")\n",
    "\n",
    "#Read in CSV\n",
    "\n",
    "try:\n",
    "    dataframe = pd.read_csv(recording_path + file_name + \".csv\")\n",
    "except:\n",
    "    print(\"Error Reading File: Check Spelling and Try Again\")\n",
    "\n",
    "# Seperate each tracker to seperate dataframe\n",
    "HMD = dataframe.iloc[:, 1:4]\n",
    "controller_1 = dataframe.iloc[:, 7:10]\n",
    "controller_2 = dataframe.iloc[:, 37:40]\n",
    "left_foot = dataframe.iloc[:, 67:70]\n",
    "right_foot = dataframe.iloc[:, 73:76]\n",
    "waist = dataframe.iloc[:, 79:82]\n",
    "\n",
    "# Join all trackers together\n",
    "joined = pd.concat([HMD, controller_1, controller_2,\n",
    "                   waist, left_foot, right_foot], axis=1)\n",
    "\n",
    "# set new column headers\n",
    "joined.columns = [\n",
    "    \"head_x\",\n",
    "    \"head_y\",\n",
    "    \"head_z\",\n",
    "    \"r_controller_x\",\n",
    "    \"r_controller_y\",\n",
    "    \"r_controller_1_z\",\n",
    "    \"l_controller_x\",\n",
    "    \"l_controller_y\",\n",
    "    \"l_controller_z\",\n",
    "    \"waist_x\",\n",
    "    \"waist_y\",\n",
    "    \"waist_z\",\n",
    "    \"r_foot_x\",\n",
    "    \"r_foot_y\",\n",
    "    \"r_foot_z\",\n",
    "    \"l_foot_x\",\n",
    "    \"l_foot_y\",\n",
    "    \"l_foot_z\"\n",
    "]\n",
    "\n",
    "\n",
    "# output to new csv\n",
    "output_file = output_path + file_name + \"_trimmed.csv\"\n",
    "joined.to_csv(output_file, index=False)\n",
    "\n",
    "print(file_name + \" output to \" + output_path)\n"
   ]
  },
  {
   "cell_type": "code",
   "execution_count": null,
   "metadata": {},
   "outputs": [],
   "source": [
    "#Data Normalization\n",
    "\n",
    "## Data Scaling\n",
    "\n",
    "'The new CSV is loaded into memory, chosen through an input prompt'\n",
    "'The data is then split between the features (the HMD and controller tracking data), and the labels (the waist and foot trackers). \n",
    "'These are loaded into Numpy arrays to peform normaliztion. The output from OpenVR Recorder is upscaled by 100. To correct this the array is divided by 100'"
   ]
  },
  {
   "cell_type": "code",
   "execution_count": 1,
   "metadata": {},
   "outputs": [
    {
     "name": "stdin",
     "output_type": "stream",
     "text": [
      "Input File Name walk_train_1\n"
     ]
    },
    {
     "name": "stdout",
     "output_type": "stream",
     "text": [
      "Error Reading File\n"
     ]
    },
    {
     "ename": "NameError",
     "evalue": "name 'dataframe' is not defined",
     "output_type": "error",
     "traceback": [
      "\u001b[1;31m---------------------------------------------------------------------------\u001b[0m",
      "\u001b[1;31mNameError\u001b[0m                                 Traceback (most recent call last)",
      "Input \u001b[1;32mIn [1]\u001b[0m, in \u001b[0;36m<cell line: 26>\u001b[1;34m()\u001b[0m\n\u001b[0;32m     22\u001b[0m \u001b[38;5;28;01mexcept\u001b[39;00m:\n\u001b[0;32m     23\u001b[0m     \u001b[38;5;28mprint\u001b[39m(\u001b[38;5;124m\"\u001b[39m\u001b[38;5;124mError Reading File\u001b[39m\u001b[38;5;124m\"\u001b[39m)\n\u001b[1;32m---> 26\u001b[0m \u001b[43mdataframe\u001b[49m\u001b[38;5;241m.\u001b[39mdescribe()\n\u001b[0;32m     27\u001b[0m \u001b[38;5;66;03m#arr = np.array(dataframe)\u001b[39;00m\n\u001b[0;32m     28\u001b[0m \u001b[38;5;66;03m#divide array by 100 to normalize to original values\u001b[39;00m\n\u001b[0;32m     29\u001b[0m \u001b[38;5;66;03m#normalizedArray = np.divide(arr, 100)\u001b[39;00m\n\u001b[1;32m   (...)\u001b[0m\n\u001b[0;32m     34\u001b[0m \u001b[38;5;66;03m#display(dataframe)\u001b[39;00m\n\u001b[0;32m     35\u001b[0m \u001b[38;5;66;03m#display(normalized_dataframe)\u001b[39;00m\n\u001b[0;32m     37\u001b[0m x_train_df \u001b[38;5;241m=\u001b[39m dataframe\u001b[38;5;241m.\u001b[39miloc[:, \u001b[38;5;241m0\u001b[39m:\u001b[38;5;241m9\u001b[39m]\n",
      "\u001b[1;31mNameError\u001b[0m: name 'dataframe' is not defined"
     ]
    }
   ],
   "source": [
    "from keras.callbacks import ModelCheckpoint\n",
    "from keras.models import Sequential\n",
    "from keras.layers import Dense, Activation, Flatten\n",
    "from sklearn.model_selection import train_test_split\n",
    "from sklearn.ensemble import RandomForestRegressor\n",
    "#from sklearn.metrics import mean_absolute_error \n",
    "from matplotlib import pyplot as plt\n",
    "#import seaborn as sb\n",
    "import matplotlib.pyplot as plt\n",
    "import pandas as pd\n",
    "import numpy as np\n",
    "\n",
    "\n",
    "output_path = \"../trim_output/\"\n",
    "\n",
    "file_name = input(\"Input File Name\")\n",
    "\n",
    "#read in formatted CSV\n",
    "try:\n",
    "    dataframe = pd.read_csv(output_path + file_name + \".csv\")\n",
    "    print(\"Dataframe created\")\n",
    "except:\n",
    "    print(\"Error Reading File\")\n",
    "\n",
    "\n",
    "dataframe.describe()\n",
    "#arr = np.array(dataframe)\n",
    "#divide array by 100 to normalize to original values\n",
    "#normalizedArray = np.divide(arr, 100)\n",
    "#round to nearest 3 points\n",
    "#roundedArray = np.around(normalizedArray, 3)\n",
    "#normalized_dataframe = pd.DataFrame(roundedArray)\n",
    "#print(\"Array Shape: \", normalizedArray.shape)\n",
    "#display(dataframe)\n",
    "#display(normalized_dataframe)\n",
    "\n",
    "x_train_df = dataframe.iloc[:, 0:9]\n",
    "y_train_df = dataframe.iloc[:, 9:18]\n",
    "#display(x_train_df)\n",
    "#display(y_train_df)\n",
    "\n",
    "x_train = np.array(x_train_df)\n",
    "y_train = np.array(y_train_df)\n",
    "\n",
    "\n",
    "\n",
    "x_train_normalized = np.divide(x_train, 100)\n",
    "y_train_normalized = np.divide(y_train, 100)\n",
    "\n",
    "\n"
   ]
  },
  {
   "cell_type": "markdown",
   "metadata": {},
   "source": [
    "#Model Creation and Training"
   ]
  },
  {
   "cell_type": "code",
   "execution_count": null,
   "metadata": {},
   "outputs": [],
   "source": [
    "import tensorflow as tf\n",
    "from tensorflow import keras\n",
    "from keras import layers\n",
    "model = keras.Sequential()\n",
    "model.add(layers.SimpleRNN(64, input_shape=(None, 28)))\n",
    "model.add(layers.BatchNormalization())\n",
    "model.add(layers.Dense(10))\n",
    "print(model.summary())\n"
   ]
  },
  {
   "cell_type": "code",
   "execution_count": null,
   "metadata": {},
   "outputs": [],
   "source": []
  }
 ],
 "metadata": {
  "kernelspec": {
   "display_name": "Python 3 (ipykernel)",
   "language": "python",
   "name": "python3"
  },
  "language_info": {
   "codemirror_mode": {
    "name": "ipython",
    "version": 3
   },
   "file_extension": ".py",
   "mimetype": "text/x-python",
   "name": "python",
   "nbconvert_exporter": "python",
   "pygments_lexer": "ipython3",
   "version": "3.10.2"
  },
  "vscode": {
   "interpreter": {
    "hash": "85eeaad1f84315a0c9c5600e08c8d22c182ff5487c2ae8eda931033c2f461801"
   }
  }
 },
 "nbformat": 4,
 "nbformat_minor": 4
}
