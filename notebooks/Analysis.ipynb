{
 "cells": [
  {
   "cell_type": "code",
   "execution_count": null,
   "id": "95e06ebb-8c25-4347-80cd-ca2fca5a972b",
   "metadata": {
    "tags": []
   },
   "outputs": [],
   "source": [
    "import os\n",
    "from mpl_toolkits import mplot3d\n",
    "import pandas as pd\n",
    "%matplotlib inline\n",
    "import numpy as np\n",
    "import matplotlib.pyplot as plt\n",
    "from sklearn import metrics\n",
    "directory_str = \"../test_data/\"\n",
    "\n",
    "prediction_directory_str = \"../results/\"\n",
    "\n",
    "def PlotData():\n",
    "    directory = os.fsencode(directory_str)\n",
    "    \n",
    "    for file in os.listdir(directory):       \n",
    "        filename = os.fsdecode(file)\n",
    "        if filename.endswith('.csv'):\n",
    "            pd.read_csv(directory_str + filename).plot(figsize=(20,15), title = filename)\n",
    "        \n",
    "#Get the prediction data of a given directory\n",
    "def PlotPredictedData():\n",
    "    results_directory = input('Select Run Directory')\n",
    "    directory_joined = prediction_directory_str + results_directory + \"/\"\n",
    "    directory = os.fsencode(directory_joined)\n",
    "    for file in os.listdir(directory):       \n",
    "        filename = os.fsdecode(file)\n",
    "        if filename.endswith('prediction.csv'):\n",
    "            df = pd.read_csv(directory_joined + filename)\n",
    "            GetCols(df)\n",
    "            MAE(df)\n",
    "        \n",
    "#Display prediction data in plot\n",
    "def GetCols(df):\n",
    "    waist_df = pd.concat([df.iloc[:,0:3], df.iloc[:,9:12]], axis = 1)\n",
    "    waist_df.plot(figsize=(20,15), title = \"Waist Plot\")\n",
    "    r_foot_df = pd.concat([df.iloc[:,3:6], df.iloc[:,12:15]], axis = 1)\n",
    "    r_foot_df.plot(figsize=(20,15), title = \"Right Foot Plot\")\n",
    "    l_foot_df = pd.concat([df.iloc[:,6:9], df.iloc[:,15:18]], axis = 1)\n",
    "    l_foot_df.plot(figsize=(20,15), title = \"Left Foot Plot\")\n",
    "\n",
    "def MAE(df):\n",
    "    a_waist_x = df.iloc[:,0].to_numpy()\n",
    "    p_waist_x = df.iloc[:,9].to_numpy()\n",
    "    \n",
    "    a_waist_y = df.iloc[:,1].to_numpy()\n",
    "    p_waist_y = df.iloc[:,10].to_numpy()\n",
    "    \n",
    "    a_waist_z = df.iloc[:,2].to_numpy()\n",
    "    p_waist_z = df.iloc[:,11].to_numpy()\n",
    "    \n",
    "    a_r_foot_x = df.iloc[:,3].to_numpy()\n",
    "    p_r_foot_x = df.iloc[:,12].to_numpy()\n",
    "    \n",
    "    a_r_foot_y = df.iloc[:,4].to_numpy()\n",
    "    p_r_foot_y = df.iloc[:,13].to_numpy()\n",
    "    \n",
    "    a_r_foot_z = df.iloc[:,5].to_numpy()\n",
    "    p_r_foot_z = df.iloc[:,14].to_numpy()\n",
    "    \n",
    "    a_l_foot_x = df.iloc[:,6].to_numpy()\n",
    "    p_l_foot_x = df.iloc[:,15].to_numpy()\n",
    "    \n",
    "    a_l_foot_y = df.iloc[:,7].to_numpy()\n",
    "    p_l_foot_y = df.iloc[:,16].to_numpy()\n",
    "    \n",
    "    a_l_foot_z = df.iloc[:,8].to_numpy()\n",
    "    p_l_foot_z = df.iloc[:,17].to_numpy()\n",
    "    \n",
    "    MAE_list = []\n",
    "    \n",
    "    MAE_list.append(metrics.mean_absolute_error(a_waist_x, p_waist_x))\n",
    "    MAE_list.append(metrics.mean_absolute_error(a_waist_y, p_waist_y))\n",
    "    MAE_list.append(metrics.mean_absolute_error(a_waist_z, p_waist_z))\n",
    "\n",
    "    \n",
    "    MAE_list.append(metrics.mean_absolute_error(a_r_foot_x,  p_r_foot_x))\n",
    "    MAE_list.append(metrics.mean_absolute_error(a_r_foot_y,  p_r_foot_y))\n",
    "    MAE_list.append(metrics.mean_absolute_error(a_r_foot_z,  p_r_foot_z))\n",
    "    \n",
    "    MAE_list.append(metrics.mean_absolute_error(a_l_foot_x,  p_l_foot_x))\n",
    "    MAE_list.append(metrics.mean_absolute_error(a_l_foot_y,  p_l_foot_y))\n",
    "    MAE_list.append(metrics.mean_absolute_error(a_l_foot_z,  p_l_foot_z))\n",
    "\n",
    "    display(pd.DataFrame( [MAE_list], columns = [\"Waist X\", \"Waist Y\", \"Waist Z\",\"Right Foot X\", \"Right Foot Y\", \"Right Foot Z\",\"Left Foot X\", \"Left Foot Y\", \"Left Foot Z\"]))\n",
    "    \n",
    "            \n",
    "    \n",
    "    "
   ]
  },
  {
   "cell_type": "code",
   "execution_count": null,
   "id": "6263796a-25ff-4422-9eee-bb513e5b2412",
   "metadata": {},
   "outputs": [],
   "source": [
    "PlotPredictedData()"
   ]
  },
  {
   "cell_type": "code",
   "execution_count": null,
   "id": "03abec3e-cb84-4a86-aca7-9ca467e9a489",
   "metadata": {},
   "outputs": [],
   "source": [
    "\n",
    "    "
   ]
  }
 ],
 "metadata": {
  "kernelspec": {
   "display_name": "Python 3 (ipykernel)",
   "language": "python",
   "name": "python3"
  },
  "language_info": {
   "codemirror_mode": {
    "name": "ipython",
    "version": 3
   },
   "file_extension": ".py",
   "mimetype": "text/x-python",
   "name": "python",
   "nbconvert_exporter": "python",
   "pygments_lexer": "ipython3",
   "version": "3.10.2"
  },
  "vscode": {
   "interpreter": {
    "hash": "85eeaad1f84315a0c9c5600e08c8d22c182ff5487c2ae8eda931033c2f461801"
   }
  }
 },
 "nbformat": 4,
 "nbformat_minor": 5
}
